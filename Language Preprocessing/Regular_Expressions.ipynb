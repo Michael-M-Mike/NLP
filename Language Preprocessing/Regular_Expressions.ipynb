{
  "nbformat": 4,
  "nbformat_minor": 0,
  "metadata": {
    "colab": {
      "provenance": [],
      "toc_visible": true
    },
    "kernelspec": {
      "name": "python3",
      "display_name": "Python 3"
    },
    "language_info": {
      "name": "python"
    }
  },
  "cells": [
    {
      "cell_type": "markdown",
      "source": [
        "# **Regular Expressions**\n",
        "\n",
        "A **regular expression** (shortened as **regex**) is a sequence of characters that specifies a search pattern in text. In other words, they use specialised syntax to find/extract strings of text that match provided criteria.\n"
      ],
      "metadata": {
        "id": "S5eaUrnrcXe1"
      }
    },
    {
      "cell_type": "markdown",
      "source": [
        ">[Regular Expressions](#folderId=1mMkxJ9aGYkHVPC6LfQ3j0xpAEfTgI_cq&updateTitle=true&scrollTo=S5eaUrnrcXe1)\n",
        "\n",
        ">>[Abstract](#folderId=1mMkxJ9aGYkHVPC6LfQ3j0xpAEfTgI_cq&updateTitle=true&scrollTo=Rqj9eoIQdV7i)\n",
        "\n",
        ">>[Formal Language Theory](#folderId=1mMkxJ9aGYkHVPC6LfQ3j0xpAEfTgI_cq&updateTitle=true&scrollTo=KDbtbUzndX0D)\n",
        "\n",
        ">>[Regular Expression Syntax](#folderId=1mMkxJ9aGYkHVPC6LfQ3j0xpAEfTgI_cq&updateTitle=true&scrollTo=WDsj3xRrjAUN)\n",
        "\n",
        ">>>[Wildcard](#folderId=1mMkxJ9aGYkHVPC6LfQ3j0xpAEfTgI_cq&updateTitle=true&scrollTo=FZ7uqv2WqdwG)\n",
        "\n",
        ">>>[Disjunction](#folderId=1mMkxJ9aGYkHVPC6LfQ3j0xpAEfTgI_cq&updateTitle=true&scrollTo=VHq_EmkxqIFI)\n",
        "\n",
        ">>>[Quantification](#folderId=1mMkxJ9aGYkHVPC6LfQ3j0xpAEfTgI_cq&updateTitle=true&scrollTo=Z7nxC2v3qSaq)\n",
        "\n",
        ">>>[Anchors](#folderId=1mMkxJ9aGYkHVPC6LfQ3j0xpAEfTgI_cq&updateTitle=true&scrollTo=vdEJQATXqVik)\n",
        "\n",
        ">>>[Grouping](#folderId=1mMkxJ9aGYkHVPC6LfQ3j0xpAEfTgI_cq&updateTitle=true&scrollTo=4xJ2coPCqumw)\n",
        "\n",
        ">>[Python's re Module](#folderId=1mMkxJ9aGYkHVPC6LfQ3j0xpAEfTgI_cq&updateTitle=true&scrollTo=pXmIXQLwrHvB)\n",
        "\n",
        ">>>[String Pattern Matching](#folderId=1mMkxJ9aGYkHVPC6LfQ3j0xpAEfTgI_cq&updateTitle=true&scrollTo=Bu_rtzU-rdgm)\n",
        "\n",
        ">>>[String Pattern Substitution](#folderId=1mMkxJ9aGYkHVPC6LfQ3j0xpAEfTgI_cq&updateTitle=true&scrollTo=CHJehtaRrgeE)\n",
        "\n"
      ],
      "metadata": {
        "colab_type": "toc",
        "id": "pm4pQNaudOuc"
      }
    },
    {
      "cell_type": "markdown",
      "source": [
        "## Abstract\n",
        "\n",
        "This notebook explores regular expressions as a basic preprocessing tool for NLP pipelines. It reports the basic syntax for regular expressions as well as basic usage of Python's `re` module. "
      ],
      "metadata": {
        "id": "Rqj9eoIQdV7i"
      }
    },
    {
      "cell_type": "markdown",
      "source": [
        "## Formal Language Theory\n",
        "\n",
        "<font color=\"hotpink\">Regular expressions</font> describe <font color=\"hotpink\">regular languages</font> in formal language theory. They consist of: \n",
        "- Constants, which denote sets of strings.\n",
        "- Operator symbols, which denote operations over these sets. \n",
        "\n",
        "The following <font color=\"hotpink\">definition</font> is standard, and found as such in most textbooks on formal language theory. Given a finite alphabet Σ, the following constants are defined as regular expressions:\n",
        "\n",
        "- (Empty set) ∅ denoting the set ∅.\n",
        "- (Empty string) ε denoting the set containing only the \"empty\" string, which has no characters at all.\n",
        "- (Literal character) $a$ in Σ denoting the set containing only the character $a$.\n",
        "\n",
        "Given regular expressions $R$ and $S$, the following operations over them are defined to produce regular expressions:\n",
        "\n",
        "- (Concatenation) ($RS$) denotes the set of strings obtained by concatenating a string accepted by $R$ and another accepted by $S$ (in that order).\n",
        "  \n",
        "  For example, let $R$ denote {\"ab\", \"c\"} and $S$ denote {\"d\", \"ef\"}. Then, ($RS$) denotes {\"abd\", \"abef\", \"cd\", \"cef\"}.\n",
        "\n",
        "- (Alternation) ($R|S$) denotes the set union of sets described by $R$ and $S$. \n",
        "  \n",
        "  For example, if $R$ describes {\"ab\", \"c\"} and $S$ describes {\"ab\", \"d\", \"ef\"}, expression ($R|S$) describes {\"ab\", \"c\", \"d\", \"ef\"}.\n",
        "\n",
        "- (Kleene star) ($R^*$) denotes the set of all strings that can be made by concatenating any finite number (including zero) of strings from the set defined by $R$.\n",
        "\n",
        "  For example, if $R$ denotes {\"0\", \"1\"}, ($R^*$) denotes the set of all finite binary strings (including the empty string).\n",
        "\n"
      ],
      "metadata": {
        "id": "KDbtbUzndX0D"
      }
    },
    {
      "cell_type": "markdown",
      "source": [
        "## Regular Expression Syntax\n",
        "\n",
        "\n",
        "\n",
        "\n",
        "\n"
      ],
      "metadata": {
        "id": "WDsj3xRrjAUN"
      }
    },
    {
      "cell_type": "markdown",
      "source": [
        "- ### Wildcard\n",
        "\n",
        "  The wildcard `.` matches any character. "
      ],
      "metadata": {
        "id": "FZ7uqv2WqdwG"
      }
    },
    {
      "cell_type": "markdown",
      "source": [
        "- ### Disjunction\n",
        "  \n",
        "  Disjunctions `[]` are used to indicate a set of characters, any of which can be matched.\n",
        "  - Ranges `[0-9]`: will match any digit within the range.\n",
        "  - Negation Caret `^`: if the first character of the set is `^`, all the characters that are not in the set will be matched. "
      ],
      "metadata": {
        "id": "VHq_EmkxqIFI"
      }
    },
    {
      "cell_type": "markdown",
      "source": [
        "- ### Quantification\n",
        "\n",
        "  A quantifier after an element (such as a token, character, or group) specifies how many times the preceding element is allowed to repeat.\n",
        "  - `?` indicates zero or one occurrences of the preceding element. \n",
        "  - `*` indicates zero or more occurrences of the preceding element. \n",
        "  - `+` indicates one or more occurrences of the preceding element.\n",
        "  - `{n}` the preceding item is matched exactly `n` times.\n",
        "  - `{n, }` the preceding item is matched at least `n` times.\n",
        "  - `{, m}` the preceding item is matched at most `m` times.\n",
        "  - `{n, m}` the preceding item is matched at least `n` times, but not more than `m` times."
      ],
      "metadata": {
        "id": "Z7nxC2v3qSaq"
      }
    },
    {
      "cell_type": "markdown",
      "source": [
        "- ### Anchors\n",
        "\n",
        "  Anchors don't match any characters, but assert something about the matching process. \n",
        "\n",
        "  - `^` indicates the start of the line. \n",
        "  - `$` indicates the end of the line.\n",
        "  - `\\b` indicates a word boundary.\n",
        "  - `\\B` indicates a word non-boundary."
      ],
      "metadata": {
        "id": "vdEJQATXqVik"
      }
    },
    {
      "cell_type": "markdown",
      "source": [
        "- ### Grouping\n",
        "\n",
        "  Parentheses `()` are used to define the scope and precedence of the operators. They can also be used to enable referring to the matched group."
      ],
      "metadata": {
        "id": "4xJ2coPCqumw"
      }
    },
    {
      "cell_type": "markdown",
      "source": [
        "## Python's `re` Module\n",
        "\n",
        "The [re](https://docs.python.org/3/library/re.html) module provides regular expression matching operations similar to those found in Perl."
      ],
      "metadata": {
        "id": "pXmIXQLwrHvB"
      }
    },
    {
      "cell_type": "code",
      "source": [
        "import re"
      ],
      "metadata": {
        "id": "zVH9O18oru-m"
      },
      "execution_count": 1,
      "outputs": []
    },
    {
      "cell_type": "markdown",
      "source": [
        "### String Pattern Matching"
      ],
      "metadata": {
        "id": "Bu_rtzU-rdgm"
      }
    },
    {
      "cell_type": "code",
      "source": [
        "text = \"NLP is extremely interesting; I love it. I also love music.\"\n",
        "regex = \"love\"\n",
        "\n",
        "# Returns a list of all the matches\n",
        "re.findall(regex, text)"
      ],
      "metadata": {
        "colab": {
          "base_uri": "https://localhost:8080/"
        },
        "id": "TuoUcVbEr15G",
        "outputId": "9b65a4a8-d45c-4c10-b7e7-afaaa8fed936"
      },
      "execution_count": 2,
      "outputs": [
        {
          "output_type": "execute_result",
          "data": {
            "text/plain": [
              "['love', 'love']"
            ]
          },
          "metadata": {},
          "execution_count": 2
        }
      ]
    },
    {
      "cell_type": "markdown",
      "source": [
        "### String Pattern Substitution"
      ],
      "metadata": {
        "id": "CHJehtaRrgeE"
      }
    },
    {
      "cell_type": "code",
      "execution_count": 3,
      "metadata": {
        "colab": {
          "base_uri": "https://localhost:8080/",
          "height": 35
        },
        "id": "48VxcoIjcW-e",
        "outputId": "6eae1a13-5ea4-473a-ae17-345f447517a3"
      },
      "outputs": [
        {
          "output_type": "execute_result",
          "data": {
            "text/plain": [
              "'NLP is extremely interesting; I like it. I also like music.'"
            ],
            "application/vnd.google.colaboratory.intrinsic+json": {
              "type": "string"
            }
          },
          "metadata": {},
          "execution_count": 3
        }
      ],
      "source": [
        "re.sub(\"love\", \"like\", text)"
      ]
    },
    {
      "cell_type": "code",
      "source": [],
      "metadata": {
        "id": "HGlA8arCsSsp"
      },
      "execution_count": null,
      "outputs": []
    }
  ]
}