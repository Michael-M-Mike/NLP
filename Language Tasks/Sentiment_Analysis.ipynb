{
  "nbformat": 4,
  "nbformat_minor": 0,
  "metadata": {
    "colab": {
      "provenance": [],
      "toc_visible": true,
      "collapsed_sections": []
    },
    "kernelspec": {
      "name": "python3",
      "display_name": "Python 3"
    },
    "language_info": {
      "name": "python"
    }
  },
  "cells": [
    {
      "cell_type": "markdown",
      "source": [
        "# Sentiment Analysis on IMDb Movie Reviews Dataset"
      ],
      "metadata": {
        "id": "AsYrvE7GL-Zs"
      }
    },
    {
      "cell_type": "markdown",
      "source": [
        "## Abstract\n",
        "\n",
        "This notebook explores text classification task of sentiment analysis on the IMDb movie reviews dataset using the bag-of-words and TF-IDF vectorization methods, and a naive Bayes, logistic regression, and SVM classifiers. "
      ],
      "metadata": {
        "id": "A_KPEIeVMEt9"
      }
    },
    {
      "cell_type": "markdown",
      "source": [
        "## Table of Contents"
      ],
      "metadata": {
        "id": "HzqFwlWtMJgU"
      }
    },
    {
      "cell_type": "markdown",
      "source": [
        ">[Sentiment Analysis on IMDb Movie Reviews Dataset](#scrollTo=AsYrvE7GL-Zs)\n",
        "\n",
        ">>[Abstract](#scrollTo=A_KPEIeVMEt9)\n",
        "\n",
        ">>[Table of Contents](#scrollTo=HzqFwlWtMJgU)\n",
        "\n",
        ">>[Sentiment Analysis](#scrollTo=K2Fbs5e_MLAx)\n",
        "\n",
        ">>>[Feature Extraction](#scrollTo=9SiURGCdPOmr)\n",
        "\n",
        ">>>[Dimensionality Reduction](#scrollTo=-8iKeuybQ2E6)\n",
        "\n",
        ">>>[Classification](#scrollTo=ln59hS-LSPGQ)\n",
        "\n",
        ">>>[Evaluation](#scrollTo=J7xjK6RwSQtG)\n",
        "\n",
        ">>[Implementation](#scrollTo=5X3uRJ1jzfm7)\n",
        "\n",
        ">>>[Imports](#scrollTo=6ORKupGTzlMw)\n",
        "\n",
        ">>>[IMDb Movie Reviews Dataset](#scrollTo=x4ffSBagyc3v)\n",
        "\n",
        ">>>[Load the Dataset into a DataFrame](#scrollTo=HiMxnM8BzobK)\n",
        "\n",
        ">>>[Text Preprocessing](#scrollTo=cYlBvMrtT_PB)\n",
        "\n",
        ">>>[Prepare Train/Val/Test Splits](#scrollTo=syyuikyaGuWm)\n",
        "\n",
        ">>[Text Vectorization](#scrollTo=9CorM9zGVPQ9)\n",
        "\n",
        ">>>[Bag-of-Words Model](#scrollTo=Y1ubcWhhVVkq)\n",
        "\n",
        ">>>[Term Frequency-Inverse Document Frequency](#scrollTo=1XB_qBHMYy6B)\n",
        "\n",
        ">>[Classification](#scrollTo=rpfwxDcmboHe)\n",
        "\n",
        ">>>[Naive Bayes Classifier](#scrollTo=eOOrbATHbpb8)\n",
        "\n",
        ">>>[Logisitc Regression](#scrollTo=N0ahX7YWUp1D)\n",
        "\n",
        ">>>[SVM Classifier](#scrollTo=06u6ex9WV303)\n",
        "\n",
        ">>>[Performance Summary](#scrollTo=Pw5pd-0MZq5c)\n",
        "\n",
        ">>[Model Evaluation](#scrollTo=ju2VqJvpawIr)\n",
        "\n",
        ">>[Error Analysis](#scrollTo=7cmWP8PpdBQQ)\n",
        "\n"
      ],
      "metadata": {
        "colab_type": "toc",
        "id": "q3V20S0GMOSL"
      }
    },
    {
      "cell_type": "markdown",
      "source": [
        "## Sentiment Analysis\n",
        "\n",
        "Sentiment analysis (or opinion mining) is a natural language processing (NLP) classification task of determining the sentiment - the positive or negative orientation a writer expresses toward some subject in a given text. \n",
        "\n",
        "Sentiment analysis allows businesses to identify customer sentiment toward\n",
        "products, brands or services in online conversations and feedback. Sentiment analysis models focus on polarity (positive, negative, neutral) but also on feelings and emotions (e.g. angry, happy, sad) and even on intentions (e.g. interested, not interested).\n",
        "\n",
        "Most text classification and document categorization systems can be deconstructed into the following four phases: \n",
        "- Features Extraction\n",
        "- Dimensionality Reduction\n",
        "- Classification\n",
        "- Evaluation "
      ],
      "metadata": {
        "id": "K2Fbs5e_MLAx"
      }
    },
    {
      "cell_type": "markdown",
      "source": [
        "### Feature Extraction\n",
        "\n",
        "In general, texts and documents are unstructured data sets. However, these unstructured text sequences must be converted into a structured feature space when using mathematical modeling as part of a classifier. First, the data needs to be cleaned to omit unnecessary characters and words. After the data has been cleaned, formal feature extraction methods can be applied. \n",
        "\n",
        "The common techniques of feature extractions are:\n",
        "- Bag-of-Words (BoW)\n",
        "- Term Frequency-Inverse Document Frequency (TF-IDF)\n",
        "- Word2Vec  \n",
        "- Global Vectors for Word Representation (GloVe)\n",
        "\n",
        "These methods are categorized as either word embedding or weighted word feature extraction techniques."
      ],
      "metadata": {
        "id": "9SiURGCdPOmr"
      }
    },
    {
      "cell_type": "markdown",
      "source": [
        "### Dimensionality Reduction\n",
        "\n",
        "The dimensionality reduction step is an optional part of the pipeline which could be part of the classification system. For example, using Term Frequency-Inverse Document Frequency (TF-IDF) as a feature extraction method when there are 200k unique words in the training set, leads to a very expensive computational cost. Thus, dimensionality reduction techniques such as PCA, LDA, and NMF can reduce the computation time by projecting the feature space onto another lower-dimensional space."
      ],
      "metadata": {
        "id": "-8iKeuybQ2E6"
      }
    },
    {
      "cell_type": "markdown",
      "source": [
        "### Classification\n",
        "\n",
        "One of the simplest classification algorithms are the Naive Bayes and logistic regression classifiers. However, deep learning approaches have achieved surpassing results in comparison to traditional machine learning algorithms."
      ],
      "metadata": {
        "id": "ln59hS-LSPGQ"
      }
    },
    {
      "cell_type": "markdown",
      "source": [
        "### Evaluation\n",
        "\n",
        "Accuracy calculation is the simplest method of evaluation but does not work for unbalanced data sets. Metrics like $F_β$ are more informative in this case."
      ],
      "metadata": {
        "id": "J7xjK6RwSQtG"
      }
    },
    {
      "cell_type": "markdown",
      "source": [
        "## Implementation"
      ],
      "metadata": {
        "id": "5X3uRJ1jzfm7"
      }
    },
    {
      "cell_type": "markdown",
      "source": [
        "### Imports"
      ],
      "metadata": {
        "id": "6ORKupGTzlMw"
      }
    },
    {
      "cell_type": "code",
      "source": [
        "# Download and Extract the Dataset\n",
        "import os\n",
        "import tarfile\n",
        "\n",
        "from io import BytesIO\n",
        "from urllib.request import urlretrieve\n",
        "\n",
        "# Loading the Dataset\n",
        "import pandas as pd\n",
        "from sklearn.model_selection import train_test_split"
      ],
      "metadata": {
        "id": "gRrzBSTszM-c"
      },
      "execution_count": 1,
      "outputs": []
    },
    {
      "cell_type": "code",
      "source": [
        "# Preprocessing the Dataset\n",
        "import re\n",
        "import nltk\n",
        "import string\n",
        "\n",
        "from nltk.tag import pos_tag\n",
        "from nltk.corpus import stopwords\n",
        "from nltk.stem import PorterStemmer\n",
        "from nltk.tokenize import word_tokenize\n",
        "nltk.download(\"punkt\")\n",
        "nltk.download(\"omw-1.4\")\n",
        "nltk.download(\"wordnet\")\n",
        "nltk.download(\"stopwords\")"
      ],
      "metadata": {
        "colab": {
          "base_uri": "https://localhost:8080/"
        },
        "id": "Rt5pIND30mhh",
        "outputId": "4a3f0e05-32cf-485f-a7b6-434ffc3df820"
      },
      "execution_count": 2,
      "outputs": [
        {
          "output_type": "stream",
          "name": "stderr",
          "text": [
            "[nltk_data] Downloading package punkt to /root/nltk_data...\n",
            "[nltk_data]   Package punkt is already up-to-date!\n",
            "[nltk_data] Downloading package omw-1.4 to /root/nltk_data...\n",
            "[nltk_data]   Package omw-1.4 is already up-to-date!\n",
            "[nltk_data] Downloading package wordnet to /root/nltk_data...\n",
            "[nltk_data]   Package wordnet is already up-to-date!\n",
            "[nltk_data] Downloading package stopwords to /root/nltk_data...\n",
            "[nltk_data]   Package stopwords is already up-to-date!\n"
          ]
        },
        {
          "output_type": "execute_result",
          "data": {
            "text/plain": [
              "True"
            ]
          },
          "metadata": {},
          "execution_count": 2
        }
      ]
    },
    {
      "cell_type": "code",
      "source": [
        "# Text Vectorization\n",
        "from sklearn.feature_extraction.text import CountVectorizer, TfidfVectorizer"
      ],
      "metadata": {
        "id": "TEF9UzMT4hd3"
      },
      "execution_count": 3,
      "outputs": []
    },
    {
      "cell_type": "code",
      "source": [
        "# Models Creation\n",
        "from sklearn.naive_bayes import MultinomialNB\n",
        "from sklearn.linear_model import LogisticRegression\n",
        "from sklearn.svm import LinearSVC\n",
        "\n",
        "# Models Evaluation\n",
        "from sklearn.metrics import accuracy_score\n",
        "from sklearn.metrics import classification_report, confusion_matrix, ConfusionMatrixDisplay\n",
        "\n",
        "import numpy as np\n",
        "import matplotlib.pyplot as plt"
      ],
      "metadata": {
        "id": "0kLBLEs4_auG"
      },
      "execution_count": 54,
      "outputs": []
    },
    {
      "cell_type": "markdown",
      "source": [
        "### IMDb Movie Reviews Dataset\n",
        "\n",
        "The IMDb Movie Reviews dataset is a binary sentiment analysis dataset consisting of 50,000 reviews from the Internet Movie Database (IMDb) labeled as positive or negative. The dataset contains an even number of positive and negative reviews. Only highly polarizing reviews are considered. A negative review has a score ≤ 4 out of 10, and a positive review has a score ≥ 7 out of 10. No more than 30 reviews are included per movie. The dataset contains additional unlabeled data.\n",
        "\n",
        "The [dataset](http://ai.stanford.edu/~amaas/data/sentiment/) is downloaded as a *`.tar.gz`* file. The file is then extracted into the `data/` directory.\n",
        "\n",
        "Thus, the structure of the dataset directory is as follows:\n",
        "\n",
        "```\n",
        "data/\n",
        "├── aclImdb/\n",
        "      ├── test/\n",
        "      │     ├── pos/\n",
        "      │     ├── neg/\n",
        "      ├── train/\n",
        "            ├── pos/\n",
        "            └── neg/\n",
        "```"
      ],
      "metadata": {
        "id": "x4ffSBagyc3v"
      }
    },
    {
      "cell_type": "code",
      "source": [
        "# Specify the dataset URL\n",
        "corpus_url = \"http://ai.stanford.edu/~amaas/data/sentiment/aclImdb_v1.tar.gz\"\n",
        "\n",
        "working_directory = os.getcwd()\n",
        "dataset_directory = os.path.join(os.getcwd(), \"data\")\n",
        "tarfile_path = os.path.join(working_directory, \"aclImdb_v1.tar.gz\")\n",
        "\n",
        "# Download and extract the dataset, if haven't already done so\n",
        "if \"data\" not in os.listdir(working_directory):\n",
        "\n",
        "  print(\"Downloading the Dataset...\")\n",
        "  urlretrieve(corpus_url, tarfile_path)\n",
        "  print(\"Dataset Downloaded.\")\n",
        "\n",
        "  print(\"Extracting the Dataset...\")\n",
        "  with tarfile.open(tarfile_path) as tar_file:\n",
        "    tar_file.extractall(dataset_directory)\n",
        "  print(\"Dataset Extracted.\")\n",
        "\n",
        "else:\n",
        "  print(\"Dataset is ready.\")\n",
        "\n",
        "# Update the dataset directory to \"/data/aclImdb\"\n",
        "dataset_directory = os.path.join(dataset_directory, \"aclImdb\")"
      ],
      "metadata": {
        "colab": {
          "base_uri": "https://localhost:8080/"
        },
        "id": "C9dUhYENzFHH",
        "outputId": "edbd89c4-3c42-4585-b457-738703b4880a"
      },
      "execution_count": 5,
      "outputs": [
        {
          "output_type": "stream",
          "name": "stdout",
          "text": [
            "Dataset is ready.\n"
          ]
        }
      ]
    },
    {
      "cell_type": "markdown",
      "source": [
        "### Load the Dataset into a DataFrame\n",
        "\n",
        "The resulting DataFrame should be of the following structure:\n",
        "\n",
        "| review | label | split |\n",
        "| --- | --- | --- |\n",
        "| --- | --- | --- |\n",
        "\n",
        "Where:\n",
        "\n",
        "*   `review` *(str)* is the text of the review.\n",
        "*   `label` *(int)* 1 for positive reviews, 0 for negative ones.\n",
        "*   `split` *(str)* whether the review belongs to the `train` or `val` set."
      ],
      "metadata": {
        "id": "HiMxnM8BzobK"
      }
    },
    {
      "cell_type": "code",
      "source": [
        "# Create lists that will contain the reviews and group them in a dictionary\n",
        "train_pos, train_neg, test_pos, test_neg = [], [], [], []\n",
        "reviews_dict = {\n",
        "    \"train/pos\": train_pos,\n",
        "    \"train/neg\": train_neg,\n",
        "    \"test/pos\": test_pos,\n",
        "    \"test/neg\": test_neg\n",
        "}\n",
        "\n",
        "# Iterate over the dataset train/test pos/neg directories\n",
        "for data_subset in reviews_dict:\n",
        "  \n",
        "  # Iterate over each file in the current directory\n",
        "  for file_name in os.listdir(f\"{dataset_directory}/{data_subset}\"):\n",
        "\n",
        "    # Open file and append the text review in its corresponding dictionary list\n",
        "    with open(f\"{dataset_directory}/{data_subset}/{file_name}\") as review_file:\n",
        "      reviews_dict[data_subset].append(review_file.read())\n",
        "\n",
        "# Group all reviews in a DataFrame\n",
        "imdb_df = pd.concat(\n",
        "    [pd.DataFrame({\"split\": \"train\", \"sentiment\": 1, \"raw_review\": train_pos}),\n",
        "    pd.DataFrame({\"split\": \"train\", \"sentiment\": 0, \"raw_review\": train_neg}),\n",
        "    pd.DataFrame({\"split\": \"test\", \"sentiment\": 1, \"raw_review\": test_pos}),\n",
        "    pd.DataFrame({\"split\": \"test\", \"sentiment\": 0, \"raw_review\": test_neg})],\n",
        "    axis=0, ignore_index=True\n",
        ")"
      ],
      "metadata": {
        "id": "3VD6lCwdzrrl"
      },
      "execution_count": 6,
      "outputs": []
    },
    {
      "cell_type": "code",
      "source": [
        "imdb_df"
      ],
      "metadata": {
        "colab": {
          "base_uri": "https://localhost:8080/",
          "height": 423
        },
        "id": "OHnC55H50GwE",
        "outputId": "e2bf2633-6e16-49b2-feb8-5a6e19788389"
      },
      "execution_count": 7,
      "outputs": [
        {
          "output_type": "execute_result",
          "data": {
            "text/plain": [
              "       split  sentiment                                         raw_review\n",
              "0      train          1  The most interesting thing about Miryang (Secr...\n",
              "1      train          1  Filmed by MGM on the same sets as the English ...\n",
              "2      train          1  This is the best dub I've ever heard by Disney...\n",
              "3      train          1  Arguebly Al Pacino's best role. He plays Tony ...\n",
              "4      train          1  Michael Bowen plays an innocentish young man w...\n",
              "...      ...        ...                                                ...\n",
              "49995   test          0  Even though this was set up to be a showcase f...\n",
              "49996   test          0  AWiP tries to be funny, scary, tense, and roma...\n",
              "49997   test          0  I saw this only because my 10-yr-old was bored...\n",
              "49998   test          0  Following the movie that represents the pinnac...\n",
              "49999   test          0  Why remake the original \"Assault\"? To my mind ...\n",
              "\n",
              "[50000 rows x 3 columns]"
            ],
            "text/html": [
              "\n",
              "  <div id=\"df-709207ef-946f-4ccc-bdf9-e40052d8fd8a\">\n",
              "    <div class=\"colab-df-container\">\n",
              "      <div>\n",
              "<style scoped>\n",
              "    .dataframe tbody tr th:only-of-type {\n",
              "        vertical-align: middle;\n",
              "    }\n",
              "\n",
              "    .dataframe tbody tr th {\n",
              "        vertical-align: top;\n",
              "    }\n",
              "\n",
              "    .dataframe thead th {\n",
              "        text-align: right;\n",
              "    }\n",
              "</style>\n",
              "<table border=\"1\" class=\"dataframe\">\n",
              "  <thead>\n",
              "    <tr style=\"text-align: right;\">\n",
              "      <th></th>\n",
              "      <th>split</th>\n",
              "      <th>sentiment</th>\n",
              "      <th>raw_review</th>\n",
              "    </tr>\n",
              "  </thead>\n",
              "  <tbody>\n",
              "    <tr>\n",
              "      <th>0</th>\n",
              "      <td>train</td>\n",
              "      <td>1</td>\n",
              "      <td>The most interesting thing about Miryang (Secr...</td>\n",
              "    </tr>\n",
              "    <tr>\n",
              "      <th>1</th>\n",
              "      <td>train</td>\n",
              "      <td>1</td>\n",
              "      <td>Filmed by MGM on the same sets as the English ...</td>\n",
              "    </tr>\n",
              "    <tr>\n",
              "      <th>2</th>\n",
              "      <td>train</td>\n",
              "      <td>1</td>\n",
              "      <td>This is the best dub I've ever heard by Disney...</td>\n",
              "    </tr>\n",
              "    <tr>\n",
              "      <th>3</th>\n",
              "      <td>train</td>\n",
              "      <td>1</td>\n",
              "      <td>Arguebly Al Pacino's best role. He plays Tony ...</td>\n",
              "    </tr>\n",
              "    <tr>\n",
              "      <th>4</th>\n",
              "      <td>train</td>\n",
              "      <td>1</td>\n",
              "      <td>Michael Bowen plays an innocentish young man w...</td>\n",
              "    </tr>\n",
              "    <tr>\n",
              "      <th>...</th>\n",
              "      <td>...</td>\n",
              "      <td>...</td>\n",
              "      <td>...</td>\n",
              "    </tr>\n",
              "    <tr>\n",
              "      <th>49995</th>\n",
              "      <td>test</td>\n",
              "      <td>0</td>\n",
              "      <td>Even though this was set up to be a showcase f...</td>\n",
              "    </tr>\n",
              "    <tr>\n",
              "      <th>49996</th>\n",
              "      <td>test</td>\n",
              "      <td>0</td>\n",
              "      <td>AWiP tries to be funny, scary, tense, and roma...</td>\n",
              "    </tr>\n",
              "    <tr>\n",
              "      <th>49997</th>\n",
              "      <td>test</td>\n",
              "      <td>0</td>\n",
              "      <td>I saw this only because my 10-yr-old was bored...</td>\n",
              "    </tr>\n",
              "    <tr>\n",
              "      <th>49998</th>\n",
              "      <td>test</td>\n",
              "      <td>0</td>\n",
              "      <td>Following the movie that represents the pinnac...</td>\n",
              "    </tr>\n",
              "    <tr>\n",
              "      <th>49999</th>\n",
              "      <td>test</td>\n",
              "      <td>0</td>\n",
              "      <td>Why remake the original \"Assault\"? To my mind ...</td>\n",
              "    </tr>\n",
              "  </tbody>\n",
              "</table>\n",
              "<p>50000 rows × 3 columns</p>\n",
              "</div>\n",
              "      <button class=\"colab-df-convert\" onclick=\"convertToInteractive('df-709207ef-946f-4ccc-bdf9-e40052d8fd8a')\"\n",
              "              title=\"Convert this dataframe to an interactive table.\"\n",
              "              style=\"display:none;\">\n",
              "        \n",
              "  <svg xmlns=\"http://www.w3.org/2000/svg\" height=\"24px\"viewBox=\"0 0 24 24\"\n",
              "       width=\"24px\">\n",
              "    <path d=\"M0 0h24v24H0V0z\" fill=\"none\"/>\n",
              "    <path d=\"M18.56 5.44l.94 2.06.94-2.06 2.06-.94-2.06-.94-.94-2.06-.94 2.06-2.06.94zm-11 1L8.5 8.5l.94-2.06 2.06-.94-2.06-.94L8.5 2.5l-.94 2.06-2.06.94zm10 10l.94 2.06.94-2.06 2.06-.94-2.06-.94-.94-2.06-.94 2.06-2.06.94z\"/><path d=\"M17.41 7.96l-1.37-1.37c-.4-.4-.92-.59-1.43-.59-.52 0-1.04.2-1.43.59L10.3 9.45l-7.72 7.72c-.78.78-.78 2.05 0 2.83L4 21.41c.39.39.9.59 1.41.59.51 0 1.02-.2 1.41-.59l7.78-7.78 2.81-2.81c.8-.78.8-2.07 0-2.86zM5.41 20L4 18.59l7.72-7.72 1.47 1.35L5.41 20z\"/>\n",
              "  </svg>\n",
              "      </button>\n",
              "      \n",
              "  <style>\n",
              "    .colab-df-container {\n",
              "      display:flex;\n",
              "      flex-wrap:wrap;\n",
              "      gap: 12px;\n",
              "    }\n",
              "\n",
              "    .colab-df-convert {\n",
              "      background-color: #E8F0FE;\n",
              "      border: none;\n",
              "      border-radius: 50%;\n",
              "      cursor: pointer;\n",
              "      display: none;\n",
              "      fill: #1967D2;\n",
              "      height: 32px;\n",
              "      padding: 0 0 0 0;\n",
              "      width: 32px;\n",
              "    }\n",
              "\n",
              "    .colab-df-convert:hover {\n",
              "      background-color: #E2EBFA;\n",
              "      box-shadow: 0px 1px 2px rgba(60, 64, 67, 0.3), 0px 1px 3px 1px rgba(60, 64, 67, 0.15);\n",
              "      fill: #174EA6;\n",
              "    }\n",
              "\n",
              "    [theme=dark] .colab-df-convert {\n",
              "      background-color: #3B4455;\n",
              "      fill: #D2E3FC;\n",
              "    }\n",
              "\n",
              "    [theme=dark] .colab-df-convert:hover {\n",
              "      background-color: #434B5C;\n",
              "      box-shadow: 0px 1px 3px 1px rgba(0, 0, 0, 0.15);\n",
              "      filter: drop-shadow(0px 1px 2px rgba(0, 0, 0, 0.3));\n",
              "      fill: #FFFFFF;\n",
              "    }\n",
              "  </style>\n",
              "\n",
              "      <script>\n",
              "        const buttonEl =\n",
              "          document.querySelector('#df-709207ef-946f-4ccc-bdf9-e40052d8fd8a button.colab-df-convert');\n",
              "        buttonEl.style.display =\n",
              "          google.colab.kernel.accessAllowed ? 'block' : 'none';\n",
              "\n",
              "        async function convertToInteractive(key) {\n",
              "          const element = document.querySelector('#df-709207ef-946f-4ccc-bdf9-e40052d8fd8a');\n",
              "          const dataTable =\n",
              "            await google.colab.kernel.invokeFunction('convertToInteractive',\n",
              "                                                     [key], {});\n",
              "          if (!dataTable) return;\n",
              "\n",
              "          const docLinkHtml = 'Like what you see? Visit the ' +\n",
              "            '<a target=\"_blank\" href=https://colab.research.google.com/notebooks/data_table.ipynb>data table notebook</a>'\n",
              "            + ' to learn more about interactive tables.';\n",
              "          element.innerHTML = '';\n",
              "          dataTable['output_type'] = 'display_data';\n",
              "          await google.colab.output.renderOutput(dataTable, element);\n",
              "          const docLink = document.createElement('div');\n",
              "          docLink.innerHTML = docLinkHtml;\n",
              "          element.appendChild(docLink);\n",
              "        }\n",
              "      </script>\n",
              "    </div>\n",
              "  </div>\n",
              "  "
            ]
          },
          "metadata": {},
          "execution_count": 7
        }
      ]
    },
    {
      "cell_type": "markdown",
      "source": [
        "### Text Preprocessing\n",
        "\n",
        "Proper text cleaning and normalization is crucial for an informative featurization. The following step are applied to the raw corpus to clean and normalize it:\n",
        "\n",
        "*   **Lowercase** the entire corpus.\n",
        "*   Remove any **HTML tags** (these are a side effect of scraping the reviews off of the web).\n",
        "*   Remove any **numeric values**.\n",
        "*   Replace **verb contractions** with their complete form.\n",
        "*   Remove **punctuations**.\n",
        "*   Remove **stopwords**.\n",
        "*   **Stem** the corpus."
      ],
      "metadata": {
        "id": "cYlBvMrtT_PB"
      }
    },
    {
      "cell_type": "code",
      "source": [
        "stop_words = set(stopwords.words(\"english\"))\n",
        "stop_words.difference_update({\"no\", \"not\", \"nor\"})\n",
        "stop_words = stop_words.union({\"'d\", \"'s\"})\n",
        "stemmer = PorterStemmer()\n",
        "\n",
        "def preprocess(text):\n",
        "\n",
        "  # Lowercase the review\n",
        "  text = text.lower()\n",
        "\n",
        "  # Remove html tags\n",
        "  text = re.sub(\"<[^>]*>\", \" \", text)\n",
        "\n",
        "  # Remove numbers\n",
        "  text = re.sub(\"[0-9]+\", \" \", text)\n",
        "  \n",
        "  # Replace verbs contractions with their complete form\n",
        "  text = re.sub(r\"won't\", \"will not\", text)\n",
        "  text = re.sub(r\"can't\", \"can not\", text)\n",
        "  text = re.sub(r\"n't\", \" not\", text)\n",
        "  text = re.sub(r\"'ve\", \" have\", text)\n",
        "  text = re.sub(r\"'ll\", \" will\", text)\n",
        "  text = re.sub(r\"'re\", \" are\", text)\n",
        "  text = re.sub(r\"'m\", \" am\", text)\n",
        "\n",
        "  # Tokenize the text into a list\n",
        "  words_list = word_tokenize(text)\n",
        "\n",
        "  # Remove stop words\n",
        "  filtered_tokens = [w for w in words_list if w not in stop_words]\n",
        "\n",
        "  # Stem tokens\n",
        "  stemmed_tokens = [stemmer.stem(w) for w in filtered_tokens]\n",
        "  text = \" \".join(stemmed_tokens)\n",
        "\n",
        "  # Remove punctuation\n",
        "  text = text.translate(str.maketrans(\"\", \"\", string.punctuation))\n",
        "\n",
        "  # Remove redundant whitespace\n",
        "  text = re.sub(\"[ ]+\", \" \", text)\n",
        "\n",
        "  return text"
      ],
      "metadata": {
        "id": "ODxTA3aJ0exh"
      },
      "execution_count": 8,
      "outputs": []
    },
    {
      "cell_type": "code",
      "source": [
        "imdb_df[\"raw_review\"][2]"
      ],
      "metadata": {
        "colab": {
          "base_uri": "https://localhost:8080/",
          "height": 110
        },
        "id": "BriHwqxV1DNP",
        "outputId": "3d1299c7-a9b8-4068-dac6-c594ec467d0a"
      },
      "execution_count": 9,
      "outputs": [
        {
          "output_type": "execute_result",
          "data": {
            "text/plain": [
              "\"This is the best dub I've ever heard by Disney, as well as the best adaptation since the biggest abuse ever on soundtrack, themes, characters, dialogues in Kiki Delivery Service. Urrrghhh<br /><br />This one has different atmosphere, especially the deviation from the common heroine. This one has both hero and heroine (although I don't really endorse the use of hero & heroine here, since Miyazaki is out from the stereotype & common theme). As usual, after being introduced by Spirited away, amazed by Mononoke, troubled by Grave of Fireflies, and deeply touched by Majo no Takkyuubin , this one start with a bit doubt in my part. Wondering if this will be the first Ghibi's dud. Well, in the end just like Only Yesterday and Whisper of the Heart, I ended up giving 10 rating. I'd give 9.8 rating, but the additional 0.2 is there to share the good feeling by encouraging people to see the movie.<br /><br />SPOILER Somehow I see this as a sad movie, people die in this one, the lonely robot, the abandoned place, and it ends with destruction. It is as if mankind really can't live with too much power. The collapsing scene gave me patches of Metropolis ending. It's just sad somehow. The plot is apparent in most reviews and the soundtrack rules as well (as always). Joe Hisaishi really belongs to Uematsu, Kanno, Williams caliber.People who can brings a movie, a game, an event to life, even to be a lingering moments by astounding composition.<br /><br />This is a feel good movie that used to be part of US cinema in the classic days (It's a Wonderful Life etc etc). Well, things change....\""
            ],
            "application/vnd.google.colaboratory.intrinsic+json": {
              "type": "string"
            }
          },
          "metadata": {},
          "execution_count": 9
        }
      ]
    },
    {
      "cell_type": "code",
      "source": [
        "preprocess(imdb_df[\"raw_review\"][2])"
      ],
      "metadata": {
        "colab": {
          "base_uri": "https://localhost:8080/",
          "height": 110
        },
        "id": "tlQGp3qm1J6p",
        "outputId": "d3887cda-5b4e-46e7-90b5-f7a66f5f5dd9"
      },
      "execution_count": 10,
      "outputs": [
        {
          "output_type": "execute_result",
          "data": {
            "text/plain": [
              "'best dub ever heard disney well best adapt sinc biggest abus ever soundtrack theme charact dialogu kiki deliveri servic urrrghhh one differ atmospher especi deviat common heroin one hero heroin although not realli endors use hero heroin sinc miyazaki stereotyp common theme usual introduc spirit away amaz mononok troubl grave firefli deepli touch majo no takkyuubin one start bit doubt part wonder first ghibi dud well end like yesterday whisper heart end give rate give rate addit share good feel encourag peopl see movi spoiler somehow see sad movi peopl die one lone robot abandon place end destruct mankind realli not live much power collaps scene gave patch metropoli end sad somehow plot appar review soundtrack rule well alway joe hisaishi realli belong uematsu kanno william caliberpeopl bring movi game event life even linger moment astound composit feel good movi use part us cinema classic day wonder life etc etc well thing chang '"
            ],
            "application/vnd.google.colaboratory.intrinsic+json": {
              "type": "string"
            }
          },
          "metadata": {},
          "execution_count": 10
        }
      ]
    },
    {
      "cell_type": "code",
      "source": [
        "imdb_df[\"preprocessed_review\"] = imdb_df[\"raw_review\"].apply(preprocess)\n",
        "imdb_df"
      ],
      "metadata": {
        "colab": {
          "base_uri": "https://localhost:8080/",
          "height": 423
        },
        "id": "uaF8c7Wq3ZPT",
        "outputId": "abf10f5a-2e3f-435d-f245-ec5b8dfced68"
      },
      "execution_count": 11,
      "outputs": [
        {
          "output_type": "execute_result",
          "data": {
            "text/plain": [
              "       split  sentiment                                         raw_review  \\\n",
              "0      train          1  The most interesting thing about Miryang (Secr...   \n",
              "1      train          1  Filmed by MGM on the same sets as the English ...   \n",
              "2      train          1  This is the best dub I've ever heard by Disney...   \n",
              "3      train          1  Arguebly Al Pacino's best role. He plays Tony ...   \n",
              "4      train          1  Michael Bowen plays an innocentish young man w...   \n",
              "...      ...        ...                                                ...   \n",
              "49995   test          0  Even though this was set up to be a showcase f...   \n",
              "49996   test          0  AWiP tries to be funny, scary, tense, and roma...   \n",
              "49997   test          0  I saw this only because my 10-yr-old was bored...   \n",
              "49998   test          0  Following the movie that represents the pinnac...   \n",
              "49999   test          0  Why remake the original \"Assault\"? To my mind ...   \n",
              "\n",
              "                                     preprocessed_review  \n",
              "0      interest thing miryang secret sunshin actor je...  \n",
              "1      film mgm set english version german garbo seco...  \n",
              "2      best dub ever heard disney well best adapt sin...  \n",
              "3      arguebl al pacino best role play toni montana ...  \n",
              "4      michael bowen play innocentish young man hitch...  \n",
              "...                                                  ...  \n",
              "49995  even though set showcas kickbox swordplay vamp...  \n",
              "49996  awip tri funni scari tens romant fail everi re...  \n",
              "49997  saw yrold bore friend hate cours like movi fir...  \n",
              "49998  follow movi repres pinnacl ninja genr name the...  \n",
              "49999  remak origin assault mind assault carpent true...  \n",
              "\n",
              "[50000 rows x 4 columns]"
            ],
            "text/html": [
              "\n",
              "  <div id=\"df-52e98c26-583e-492f-957b-94f147e0a66f\">\n",
              "    <div class=\"colab-df-container\">\n",
              "      <div>\n",
              "<style scoped>\n",
              "    .dataframe tbody tr th:only-of-type {\n",
              "        vertical-align: middle;\n",
              "    }\n",
              "\n",
              "    .dataframe tbody tr th {\n",
              "        vertical-align: top;\n",
              "    }\n",
              "\n",
              "    .dataframe thead th {\n",
              "        text-align: right;\n",
              "    }\n",
              "</style>\n",
              "<table border=\"1\" class=\"dataframe\">\n",
              "  <thead>\n",
              "    <tr style=\"text-align: right;\">\n",
              "      <th></th>\n",
              "      <th>split</th>\n",
              "      <th>sentiment</th>\n",
              "      <th>raw_review</th>\n",
              "      <th>preprocessed_review</th>\n",
              "    </tr>\n",
              "  </thead>\n",
              "  <tbody>\n",
              "    <tr>\n",
              "      <th>0</th>\n",
              "      <td>train</td>\n",
              "      <td>1</td>\n",
              "      <td>The most interesting thing about Miryang (Secr...</td>\n",
              "      <td>interest thing miryang secret sunshin actor je...</td>\n",
              "    </tr>\n",
              "    <tr>\n",
              "      <th>1</th>\n",
              "      <td>train</td>\n",
              "      <td>1</td>\n",
              "      <td>Filmed by MGM on the same sets as the English ...</td>\n",
              "      <td>film mgm set english version german garbo seco...</td>\n",
              "    </tr>\n",
              "    <tr>\n",
              "      <th>2</th>\n",
              "      <td>train</td>\n",
              "      <td>1</td>\n",
              "      <td>This is the best dub I've ever heard by Disney...</td>\n",
              "      <td>best dub ever heard disney well best adapt sin...</td>\n",
              "    </tr>\n",
              "    <tr>\n",
              "      <th>3</th>\n",
              "      <td>train</td>\n",
              "      <td>1</td>\n",
              "      <td>Arguebly Al Pacino's best role. He plays Tony ...</td>\n",
              "      <td>arguebl al pacino best role play toni montana ...</td>\n",
              "    </tr>\n",
              "    <tr>\n",
              "      <th>4</th>\n",
              "      <td>train</td>\n",
              "      <td>1</td>\n",
              "      <td>Michael Bowen plays an innocentish young man w...</td>\n",
              "      <td>michael bowen play innocentish young man hitch...</td>\n",
              "    </tr>\n",
              "    <tr>\n",
              "      <th>...</th>\n",
              "      <td>...</td>\n",
              "      <td>...</td>\n",
              "      <td>...</td>\n",
              "      <td>...</td>\n",
              "    </tr>\n",
              "    <tr>\n",
              "      <th>49995</th>\n",
              "      <td>test</td>\n",
              "      <td>0</td>\n",
              "      <td>Even though this was set up to be a showcase f...</td>\n",
              "      <td>even though set showcas kickbox swordplay vamp...</td>\n",
              "    </tr>\n",
              "    <tr>\n",
              "      <th>49996</th>\n",
              "      <td>test</td>\n",
              "      <td>0</td>\n",
              "      <td>AWiP tries to be funny, scary, tense, and roma...</td>\n",
              "      <td>awip tri funni scari tens romant fail everi re...</td>\n",
              "    </tr>\n",
              "    <tr>\n",
              "      <th>49997</th>\n",
              "      <td>test</td>\n",
              "      <td>0</td>\n",
              "      <td>I saw this only because my 10-yr-old was bored...</td>\n",
              "      <td>saw yrold bore friend hate cours like movi fir...</td>\n",
              "    </tr>\n",
              "    <tr>\n",
              "      <th>49998</th>\n",
              "      <td>test</td>\n",
              "      <td>0</td>\n",
              "      <td>Following the movie that represents the pinnac...</td>\n",
              "      <td>follow movi repres pinnacl ninja genr name the...</td>\n",
              "    </tr>\n",
              "    <tr>\n",
              "      <th>49999</th>\n",
              "      <td>test</td>\n",
              "      <td>0</td>\n",
              "      <td>Why remake the original \"Assault\"? To my mind ...</td>\n",
              "      <td>remak origin assault mind assault carpent true...</td>\n",
              "    </tr>\n",
              "  </tbody>\n",
              "</table>\n",
              "<p>50000 rows × 4 columns</p>\n",
              "</div>\n",
              "      <button class=\"colab-df-convert\" onclick=\"convertToInteractive('df-52e98c26-583e-492f-957b-94f147e0a66f')\"\n",
              "              title=\"Convert this dataframe to an interactive table.\"\n",
              "              style=\"display:none;\">\n",
              "        \n",
              "  <svg xmlns=\"http://www.w3.org/2000/svg\" height=\"24px\"viewBox=\"0 0 24 24\"\n",
              "       width=\"24px\">\n",
              "    <path d=\"M0 0h24v24H0V0z\" fill=\"none\"/>\n",
              "    <path d=\"M18.56 5.44l.94 2.06.94-2.06 2.06-.94-2.06-.94-.94-2.06-.94 2.06-2.06.94zm-11 1L8.5 8.5l.94-2.06 2.06-.94-2.06-.94L8.5 2.5l-.94 2.06-2.06.94zm10 10l.94 2.06.94-2.06 2.06-.94-2.06-.94-.94-2.06-.94 2.06-2.06.94z\"/><path d=\"M17.41 7.96l-1.37-1.37c-.4-.4-.92-.59-1.43-.59-.52 0-1.04.2-1.43.59L10.3 9.45l-7.72 7.72c-.78.78-.78 2.05 0 2.83L4 21.41c.39.39.9.59 1.41.59.51 0 1.02-.2 1.41-.59l7.78-7.78 2.81-2.81c.8-.78.8-2.07 0-2.86zM5.41 20L4 18.59l7.72-7.72 1.47 1.35L5.41 20z\"/>\n",
              "  </svg>\n",
              "      </button>\n",
              "      \n",
              "  <style>\n",
              "    .colab-df-container {\n",
              "      display:flex;\n",
              "      flex-wrap:wrap;\n",
              "      gap: 12px;\n",
              "    }\n",
              "\n",
              "    .colab-df-convert {\n",
              "      background-color: #E8F0FE;\n",
              "      border: none;\n",
              "      border-radius: 50%;\n",
              "      cursor: pointer;\n",
              "      display: none;\n",
              "      fill: #1967D2;\n",
              "      height: 32px;\n",
              "      padding: 0 0 0 0;\n",
              "      width: 32px;\n",
              "    }\n",
              "\n",
              "    .colab-df-convert:hover {\n",
              "      background-color: #E2EBFA;\n",
              "      box-shadow: 0px 1px 2px rgba(60, 64, 67, 0.3), 0px 1px 3px 1px rgba(60, 64, 67, 0.15);\n",
              "      fill: #174EA6;\n",
              "    }\n",
              "\n",
              "    [theme=dark] .colab-df-convert {\n",
              "      background-color: #3B4455;\n",
              "      fill: #D2E3FC;\n",
              "    }\n",
              "\n",
              "    [theme=dark] .colab-df-convert:hover {\n",
              "      background-color: #434B5C;\n",
              "      box-shadow: 0px 1px 3px 1px rgba(0, 0, 0, 0.15);\n",
              "      filter: drop-shadow(0px 1px 2px rgba(0, 0, 0, 0.3));\n",
              "      fill: #FFFFFF;\n",
              "    }\n",
              "  </style>\n",
              "\n",
              "      <script>\n",
              "        const buttonEl =\n",
              "          document.querySelector('#df-52e98c26-583e-492f-957b-94f147e0a66f button.colab-df-convert');\n",
              "        buttonEl.style.display =\n",
              "          google.colab.kernel.accessAllowed ? 'block' : 'none';\n",
              "\n",
              "        async function convertToInteractive(key) {\n",
              "          const element = document.querySelector('#df-52e98c26-583e-492f-957b-94f147e0a66f');\n",
              "          const dataTable =\n",
              "            await google.colab.kernel.invokeFunction('convertToInteractive',\n",
              "                                                     [key], {});\n",
              "          if (!dataTable) return;\n",
              "\n",
              "          const docLinkHtml = 'Like what you see? Visit the ' +\n",
              "            '<a target=\"_blank\" href=https://colab.research.google.com/notebooks/data_table.ipynb>data table notebook</a>'\n",
              "            + ' to learn more about interactive tables.';\n",
              "          element.innerHTML = '';\n",
              "          dataTable['output_type'] = 'display_data';\n",
              "          await google.colab.output.renderOutput(dataTable, element);\n",
              "          const docLink = document.createElement('div');\n",
              "          docLink.innerHTML = docLinkHtml;\n",
              "          element.appendChild(docLink);\n",
              "        }\n",
              "      </script>\n",
              "    </div>\n",
              "  </div>\n",
              "  "
            ]
          },
          "metadata": {},
          "execution_count": 11
        }
      ]
    },
    {
      "cell_type": "markdown",
      "source": [
        "### Prepare Train/Val/Test Splits"
      ],
      "metadata": {
        "id": "syyuikyaGuWm"
      }
    },
    {
      "cell_type": "code",
      "source": [
        "def drop_cols_reset_index(split):\n",
        "  split = split.drop([\"split\", \"raw_review\"], axis=1)\n",
        "  split = split.rename(columns={\"preprocessed_review\": \"review\"})\n",
        "  split = split.reset_index(drop=True)\n",
        "  return split\n",
        "  \n",
        "train_val_df = imdb_df[imdb_df[\"split\"] == \"train\"]\n",
        "test_df = imdb_df[imdb_df[\"split\"] == \"test\"]\n",
        "train_df, val_df = train_test_split(train_val_df, test_size=5000, shuffle=True)\n",
        "\n",
        "train_val_df = drop_cols_reset_index(train_val_df)\n",
        "train_df = drop_cols_reset_index(train_df)\n",
        "test_df = drop_cols_reset_index(test_df)\n",
        "val_df = drop_cols_reset_index(val_df)"
      ],
      "metadata": {
        "id": "BnfiR6mmGx0d"
      },
      "execution_count": 49,
      "outputs": []
    },
    {
      "cell_type": "code",
      "source": [
        "val_df"
      ],
      "metadata": {
        "colab": {
          "base_uri": "https://localhost:8080/",
          "height": 423
        },
        "id": "BIoOkQytKnTH",
        "outputId": "8540d1f9-f956-4fe5-fae0-e2cc20c843de"
      },
      "execution_count": 13,
      "outputs": [
        {
          "output_type": "execute_result",
          "data": {
            "text/plain": [
              "      sentiment                                             review\n",
              "0             1  deathtrap first releas poster reproduc cover d...\n",
              "1             1  actual realli like seen cartoon far sure anim ...\n",
              "2             1  movi wonder hard find word describ time not de...\n",
              "3             1  earli mani us embrac hippyacidaltern cultur wh...\n",
              "4             1  not believ see film think perhap thought anoth...\n",
              "...         ...                                                ...\n",
              "4995          1  film rot core flexibl moral yet quirki sens ju...\n",
              "4996          1  went movi know noth end realli enjoy lack auth...\n",
              "4997          1  movi basic human relat interact main charact o...\n",
              "4998          0  although product jerri jameson direct definit ...\n",
              "4999          0  start gentl countri yarn inoffens mildli enjoy...\n",
              "\n",
              "[5000 rows x 2 columns]"
            ],
            "text/html": [
              "\n",
              "  <div id=\"df-67793ae4-3be1-46de-a689-6e68a8bf138a\">\n",
              "    <div class=\"colab-df-container\">\n",
              "      <div>\n",
              "<style scoped>\n",
              "    .dataframe tbody tr th:only-of-type {\n",
              "        vertical-align: middle;\n",
              "    }\n",
              "\n",
              "    .dataframe tbody tr th {\n",
              "        vertical-align: top;\n",
              "    }\n",
              "\n",
              "    .dataframe thead th {\n",
              "        text-align: right;\n",
              "    }\n",
              "</style>\n",
              "<table border=\"1\" class=\"dataframe\">\n",
              "  <thead>\n",
              "    <tr style=\"text-align: right;\">\n",
              "      <th></th>\n",
              "      <th>sentiment</th>\n",
              "      <th>review</th>\n",
              "    </tr>\n",
              "  </thead>\n",
              "  <tbody>\n",
              "    <tr>\n",
              "      <th>0</th>\n",
              "      <td>1</td>\n",
              "      <td>deathtrap first releas poster reproduc cover d...</td>\n",
              "    </tr>\n",
              "    <tr>\n",
              "      <th>1</th>\n",
              "      <td>1</td>\n",
              "      <td>actual realli like seen cartoon far sure anim ...</td>\n",
              "    </tr>\n",
              "    <tr>\n",
              "      <th>2</th>\n",
              "      <td>1</td>\n",
              "      <td>movi wonder hard find word describ time not de...</td>\n",
              "    </tr>\n",
              "    <tr>\n",
              "      <th>3</th>\n",
              "      <td>1</td>\n",
              "      <td>earli mani us embrac hippyacidaltern cultur wh...</td>\n",
              "    </tr>\n",
              "    <tr>\n",
              "      <th>4</th>\n",
              "      <td>1</td>\n",
              "      <td>not believ see film think perhap thought anoth...</td>\n",
              "    </tr>\n",
              "    <tr>\n",
              "      <th>...</th>\n",
              "      <td>...</td>\n",
              "      <td>...</td>\n",
              "    </tr>\n",
              "    <tr>\n",
              "      <th>4995</th>\n",
              "      <td>1</td>\n",
              "      <td>film rot core flexibl moral yet quirki sens ju...</td>\n",
              "    </tr>\n",
              "    <tr>\n",
              "      <th>4996</th>\n",
              "      <td>1</td>\n",
              "      <td>went movi know noth end realli enjoy lack auth...</td>\n",
              "    </tr>\n",
              "    <tr>\n",
              "      <th>4997</th>\n",
              "      <td>1</td>\n",
              "      <td>movi basic human relat interact main charact o...</td>\n",
              "    </tr>\n",
              "    <tr>\n",
              "      <th>4998</th>\n",
              "      <td>0</td>\n",
              "      <td>although product jerri jameson direct definit ...</td>\n",
              "    </tr>\n",
              "    <tr>\n",
              "      <th>4999</th>\n",
              "      <td>0</td>\n",
              "      <td>start gentl countri yarn inoffens mildli enjoy...</td>\n",
              "    </tr>\n",
              "  </tbody>\n",
              "</table>\n",
              "<p>5000 rows × 2 columns</p>\n",
              "</div>\n",
              "      <button class=\"colab-df-convert\" onclick=\"convertToInteractive('df-67793ae4-3be1-46de-a689-6e68a8bf138a')\"\n",
              "              title=\"Convert this dataframe to an interactive table.\"\n",
              "              style=\"display:none;\">\n",
              "        \n",
              "  <svg xmlns=\"http://www.w3.org/2000/svg\" height=\"24px\"viewBox=\"0 0 24 24\"\n",
              "       width=\"24px\">\n",
              "    <path d=\"M0 0h24v24H0V0z\" fill=\"none\"/>\n",
              "    <path d=\"M18.56 5.44l.94 2.06.94-2.06 2.06-.94-2.06-.94-.94-2.06-.94 2.06-2.06.94zm-11 1L8.5 8.5l.94-2.06 2.06-.94-2.06-.94L8.5 2.5l-.94 2.06-2.06.94zm10 10l.94 2.06.94-2.06 2.06-.94-2.06-.94-.94-2.06-.94 2.06-2.06.94z\"/><path d=\"M17.41 7.96l-1.37-1.37c-.4-.4-.92-.59-1.43-.59-.52 0-1.04.2-1.43.59L10.3 9.45l-7.72 7.72c-.78.78-.78 2.05 0 2.83L4 21.41c.39.39.9.59 1.41.59.51 0 1.02-.2 1.41-.59l7.78-7.78 2.81-2.81c.8-.78.8-2.07 0-2.86zM5.41 20L4 18.59l7.72-7.72 1.47 1.35L5.41 20z\"/>\n",
              "  </svg>\n",
              "      </button>\n",
              "      \n",
              "  <style>\n",
              "    .colab-df-container {\n",
              "      display:flex;\n",
              "      flex-wrap:wrap;\n",
              "      gap: 12px;\n",
              "    }\n",
              "\n",
              "    .colab-df-convert {\n",
              "      background-color: #E8F0FE;\n",
              "      border: none;\n",
              "      border-radius: 50%;\n",
              "      cursor: pointer;\n",
              "      display: none;\n",
              "      fill: #1967D2;\n",
              "      height: 32px;\n",
              "      padding: 0 0 0 0;\n",
              "      width: 32px;\n",
              "    }\n",
              "\n",
              "    .colab-df-convert:hover {\n",
              "      background-color: #E2EBFA;\n",
              "      box-shadow: 0px 1px 2px rgba(60, 64, 67, 0.3), 0px 1px 3px 1px rgba(60, 64, 67, 0.15);\n",
              "      fill: #174EA6;\n",
              "    }\n",
              "\n",
              "    [theme=dark] .colab-df-convert {\n",
              "      background-color: #3B4455;\n",
              "      fill: #D2E3FC;\n",
              "    }\n",
              "\n",
              "    [theme=dark] .colab-df-convert:hover {\n",
              "      background-color: #434B5C;\n",
              "      box-shadow: 0px 1px 3px 1px rgba(0, 0, 0, 0.15);\n",
              "      filter: drop-shadow(0px 1px 2px rgba(0, 0, 0, 0.3));\n",
              "      fill: #FFFFFF;\n",
              "    }\n",
              "  </style>\n",
              "\n",
              "      <script>\n",
              "        const buttonEl =\n",
              "          document.querySelector('#df-67793ae4-3be1-46de-a689-6e68a8bf138a button.colab-df-convert');\n",
              "        buttonEl.style.display =\n",
              "          google.colab.kernel.accessAllowed ? 'block' : 'none';\n",
              "\n",
              "        async function convertToInteractive(key) {\n",
              "          const element = document.querySelector('#df-67793ae4-3be1-46de-a689-6e68a8bf138a');\n",
              "          const dataTable =\n",
              "            await google.colab.kernel.invokeFunction('convertToInteractive',\n",
              "                                                     [key], {});\n",
              "          if (!dataTable) return;\n",
              "\n",
              "          const docLinkHtml = 'Like what you see? Visit the ' +\n",
              "            '<a target=\"_blank\" href=https://colab.research.google.com/notebooks/data_table.ipynb>data table notebook</a>'\n",
              "            + ' to learn more about interactive tables.';\n",
              "          element.innerHTML = '';\n",
              "          dataTable['output_type'] = 'display_data';\n",
              "          await google.colab.output.renderOutput(dataTable, element);\n",
              "          const docLink = document.createElement('div');\n",
              "          docLink.innerHTML = docLinkHtml;\n",
              "          element.appendChild(docLink);\n",
              "        }\n",
              "      </script>\n",
              "    </div>\n",
              "  </div>\n",
              "  "
            ]
          },
          "metadata": {},
          "execution_count": 13
        }
      ]
    },
    {
      "cell_type": "code",
      "source": [
        "x_train_val_reviews = train_val_df[\"review\"]\n",
        "y_train_val = train_val_df[\"sentiment\"]\n",
        "\n",
        "x_train_reviews = train_df[\"review\"]\n",
        "y_train = train_df[\"sentiment\"]\n",
        "\n",
        "x_val_reviews = val_df[\"review\"]\n",
        "y_val = val_df[\"sentiment\"]\n",
        "\n",
        "x_test_reviews = test_df[\"review\"]\n",
        "y_test = test_df[\"sentiment\"]"
      ],
      "metadata": {
        "id": "2iToWQALAFs9"
      },
      "execution_count": 50,
      "outputs": []
    },
    {
      "cell_type": "code",
      "source": [
        "x_train_reviews"
      ],
      "metadata": {
        "colab": {
          "base_uri": "https://localhost:8080/"
        },
        "id": "G0fNplRdLJt-",
        "outputId": "625c0fee-75b2-4d40-8518-a67bf140aed6"
      },
      "execution_count": 15,
      "outputs": [
        {
          "output_type": "execute_result",
          "data": {
            "text/plain": [
              "0        definit not worth rental catch cabl pleasantli...\n",
              "1        ever call make bad film reflect stupid human c...\n",
              "2         jami foxx suppos funni realli believ funni we...\n",
              "3        one favorit movi nostalg end movi sullivan fam...\n",
              "4        film chocolat beau travail other propel french...\n",
              "                               ...                        \n",
              "19995    unusu see film perform singl actor good one fe...\n",
              "19996    film caught surpris friend told movi chick fli...\n",
              "19997    desper find happen twitch origin movi here cha...\n",
              "19998    one alltim favorit film may move slowli well w...\n",
              "19999    skinni seem much older thought still cool bike...\n",
              "Name: review, Length: 20000, dtype: object"
            ]
          },
          "metadata": {},
          "execution_count": 15
        }
      ]
    },
    {
      "cell_type": "markdown",
      "source": [
        "## Text Vectorization"
      ],
      "metadata": {
        "id": "9CorM9zGVPQ9"
      }
    },
    {
      "cell_type": "code",
      "source": [
        "VOCABULARY_SIZE = 30000"
      ],
      "metadata": {
        "id": "CjxiVQzh4re3"
      },
      "execution_count": 16,
      "outputs": []
    },
    {
      "cell_type": "markdown",
      "source": [
        "### Bag-of-Words Model\n",
        "\n",
        "The bag-of-words (BoW) model is a sparse representation that maps arbitrary text into fixed-length (equal to that of the corpus vocabulary) vectors by counting the number of occurrences of the words (unigram) in the given text.  On the other hand, it is very common to also use bigrams and trigrams. In this way, the text feature extracted could detect more information in comparison to unigram.\n",
        "\n",
        "**Limitations of the BoW Model**\n",
        "\n",
        "- Dimensionality Problem\n",
        "\n",
        "  For a vocabulary of size $|V|$, the bag-of-words model encodes every document as a $|V|$-dimensional sparse vector. As vocabulary sizes may potentially run into millions, bag-of-word models face scalability challenges.\n",
        "\n",
        "- Semantic Problem\n",
        "\n",
        "  The main issue with the Bag-of-Words model is that it considers all words as equally important, in the case of a binary bag-of-words. While in the term-frequency bag-of-words, many words that occur frequently aren't very informative (e.g. stop words). Even if stop words are removed, there can still be highly frequent and uninformative words. For example, in the IMDb movie reviews corpus, most reviews/documents will contain the words \"movie\", \"film\", etc. "
      ],
      "metadata": {
        "id": "Y1ubcWhhVVkq"
      }
    },
    {
      "cell_type": "code",
      "source": [
        "bow_vectorizer = CountVectorizer(\n",
        "    max_features=VOCABULARY_SIZE,\n",
        "    ngram_range=(1, 2)\n",
        ")\n",
        "\n",
        "bow_vectorizer.fit(x_train_reviews)"
      ],
      "metadata": {
        "colab": {
          "base_uri": "https://localhost:8080/"
        },
        "id": "oqw3EenqPnx6",
        "outputId": "15801f5a-d9a3-48d7-88f8-b16e17cd7fe6"
      },
      "execution_count": 17,
      "outputs": [
        {
          "output_type": "execute_result",
          "data": {
            "text/plain": [
              "CountVectorizer(max_features=30000, ngram_range=(1, 2))"
            ]
          },
          "metadata": {},
          "execution_count": 17
        }
      ]
    },
    {
      "cell_type": "code",
      "source": [
        "bow_x_train = bow_vectorizer.transform(x_train_reviews)\n",
        "bow_x_test = bow_vectorizer.transform(x_test_reviews)\n",
        "bow_x_val = bow_vectorizer.transform(x_val_reviews)"
      ],
      "metadata": {
        "id": "3uOfxwP96KkW"
      },
      "execution_count": 18,
      "outputs": []
    },
    {
      "cell_type": "code",
      "source": [
        "bow_x_train.shape"
      ],
      "metadata": {
        "colab": {
          "base_uri": "https://localhost:8080/"
        },
        "id": "T0haA8UBSK0S",
        "outputId": "a22dcd8e-9bcb-4e44-f3b9-e8917227f875"
      },
      "execution_count": 19,
      "outputs": [
        {
          "output_type": "execute_result",
          "data": {
            "text/plain": [
              "(20000, 30000)"
            ]
          },
          "metadata": {},
          "execution_count": 19
        }
      ]
    },
    {
      "cell_type": "markdown",
      "source": [
        "### Term Frequency-Inverse Document Frequency\n",
        "\n",
        "TF-IDF provides an improved weighing over the bag-of-words model, by taking into consideration how unique a word is to the given document. In bag-of-words, vectorization was just concerned with the frequency of vocabulary words in a given document. As a result, articles, prepositions, and conjunctions which don’t contribute a lot to the meaning get as much importance as adjectives. \n",
        "\n",
        "TF-IDF overcomes this issue. Words that get repeated too often don’t overpower less frequent but important words. It does so by computing the product of the following two quantities:\n",
        "\n",
        "*    Term Frequency, which is just the frequency of the word in the text.\n",
        "$tf_{t, d}=log_{10}(1+count(t, d))$\n",
        "\n",
        "*    Inverse Document Frequency, which gives higher weight to words that occur only in few documents.\n",
        "$idf_t=log_{10}(\\frac{N}{df_t})$\n",
        "where $N$ is the total number of documents, and $df_t$ is the number of documents the word occurs in. \n",
        "\n",
        "**Limitations of TF-IDF**\n",
        "\n",
        "While TF-IDF provides an improved word weighting. It still suffers from the same issues as the BoW model."
      ],
      "metadata": {
        "id": "1XB_qBHMYy6B"
      }
    },
    {
      "cell_type": "code",
      "source": [
        "tfidf_vectorizer = TfidfVectorizer(\n",
        "    max_features=VOCABULARY_SIZE,\n",
        "    ngram_range=(1, 2)\n",
        ")\n",
        "\n",
        "tfidf_vectorizer.fit(x_train_reviews)"
      ],
      "metadata": {
        "colab": {
          "base_uri": "https://localhost:8080/"
        },
        "id": "752bX0jMRhQE",
        "outputId": "21bf8856-89f8-4794-dd5c-d3fdf3bcac45"
      },
      "execution_count": 20,
      "outputs": [
        {
          "output_type": "execute_result",
          "data": {
            "text/plain": [
              "TfidfVectorizer(max_features=30000, ngram_range=(1, 2))"
            ]
          },
          "metadata": {},
          "execution_count": 20
        }
      ]
    },
    {
      "cell_type": "code",
      "source": [
        "tfidf_x_train_val = tfidf_vectorizer.transform(x_train_val_reviews)\n",
        "tfidf_x_train = tfidf_vectorizer.transform(x_train_reviews)\n",
        "tfidf_x_test = tfidf_vectorizer.transform(x_test_reviews)\n",
        "tfidf_x_val = tfidf_vectorizer.transform(x_val_reviews)"
      ],
      "metadata": {
        "id": "5nttourZRhQF"
      },
      "execution_count": 51,
      "outputs": []
    },
    {
      "cell_type": "markdown",
      "source": [
        "## Classification"
      ],
      "metadata": {
        "id": "rpfwxDcmboHe"
      }
    },
    {
      "cell_type": "code",
      "source": [
        "def evaluate_model(y_true, y_pred):\n",
        "\n",
        "  # Classification Report\n",
        "  print(\"Classification Report:-\")\n",
        "  print(classification_report(y_true, y_pred))\n",
        "  \n",
        "  # Confusion Matrix\n",
        "  print(\"Confusion Matrix:-\")\n",
        "  ConfusionMatrixDisplay.from_predictions(y_true=y_true, y_pred=y_pred,\n",
        "                                          normalize=\"true\", \n",
        "                                          display_labels=[\"Positive\", \"Negative\"], \n",
        "                                          cmap=plt.cm.Blues)\n",
        "  plt.show()"
      ],
      "metadata": {
        "id": "TU8mHxcK_jTU"
      },
      "execution_count": 22,
      "outputs": []
    },
    {
      "cell_type": "code",
      "source": [
        "def fit_model(model, x_train, x_val, y_train, y_val):\n",
        "\n",
        "  # Training\n",
        "  model.fit(x_train, y_train)\n",
        "\n",
        "  # Evaluation\n",
        "  print(\"Model Results on the training set...\")\n",
        "  evaluate_model(y_train, model.predict(x_train))\n",
        "\n",
        "  print(\"\\nModel Results on the validation set...\")\n",
        "  evaluate_model(y_val, model.predict(x_val))"
      ],
      "metadata": {
        "id": "KfSgu2km9-uB"
      },
      "execution_count": 23,
      "outputs": []
    },
    {
      "cell_type": "markdown",
      "source": [
        "### Naive Bayes Classifier\n",
        "\n",
        "The Naïve Bayes classifier method is theoretically based on Bayes theorem. \n",
        "\n",
        "Let $n$ be the number of documents $\\{d_1, ..., d_n\\}$ to be classified into one of $k$ classes $\\{c_1, ..., c_k\\}$.\n",
        "\n",
        "- Bayes's theorem can be expressed as \n",
        "  $P(c|d) = \\frac{P(d|c)P(c)}{P(d)}$.\n",
        "\n",
        "- Thus, a prediction class $\\hat c$ is computed as $\\hat c=argmax_cP(d|c)P(c)=argmax_cP(w_1, ..., w_T|c)P(c)$.\n",
        "\n",
        "- The Naive assumption of $i.i.d.$ data points enable the expression of the joint probability as a product: $\\hat c=argmax_c\\Pi_{i=0}^{T}P(w_i|c)P(c)$.\n",
        "\n",
        "- This is equivalent to: $\\hat c=argmax_c\\Sigma_{i=0}^{T}log P(w_i|c)+log P(c)$."
      ],
      "metadata": {
        "id": "eOOrbATHbpb8"
      }
    },
    {
      "cell_type": "code",
      "source": [
        "nb_model = MultinomialNB()"
      ],
      "metadata": {
        "id": "cS0e2E2IVCB1"
      },
      "execution_count": 24,
      "outputs": []
    },
    {
      "cell_type": "code",
      "source": [
        "print(\"Bag-of-Words Results:\")\n",
        "print(\"----------------------------------------\")\n",
        "fit_model(nb_model, bow_x_train, bow_x_val, y_train, y_val)"
      ],
      "metadata": {
        "colab": {
          "base_uri": "https://localhost:8080/",
          "height": 1000
        },
        "id": "nFZ2o-1P_zxE",
        "outputId": "84380a87-2d46-412f-9a57-98fa74d540c5"
      },
      "execution_count": 25,
      "outputs": [
        {
          "output_type": "stream",
          "name": "stdout",
          "text": [
            "Bag-of-Words Results:\n",
            "----------------------------------------\n",
            "Model Results on the training set...\n",
            "Classification Report:-\n",
            "              precision    recall  f1-score   support\n",
            "\n",
            "           0       0.90      0.91      0.91     10016\n",
            "           1       0.91      0.90      0.90      9984\n",
            "\n",
            "    accuracy                           0.91     20000\n",
            "   macro avg       0.91      0.91      0.91     20000\n",
            "weighted avg       0.91      0.91      0.91     20000\n",
            "\n",
            "Confusion Matrix:-\n"
          ]
        },
        {
          "output_type": "display_data",
          "data": {
            "text/plain": [
              "<Figure size 432x288 with 2 Axes>"
            ],
            "image/png": "[encoded data removed]"
          },
          "metadata": {
            "needs_background": "light"
          }
        },
        {
          "output_type": "stream",
          "name": "stdout",
          "text": [
            "\n",
            "Model Results on the validation set...\n",
            "Classification Report:-\n",
            "              precision    recall  f1-score   support\n",
            "\n",
            "           0       0.86      0.88      0.87      2484\n",
            "           1       0.88      0.86      0.87      2516\n",
            "\n",
            "    accuracy                           0.87      5000\n",
            "   macro avg       0.87      0.87      0.87      5000\n",
            "weighted avg       0.87      0.87      0.87      5000\n",
            "\n",
            "Confusion Matrix:-\n"
          ]
        },
        {
          "output_type": "display_data",
          "data": {
            "text/plain": [
              "<Figure size 432x288 with 2 Axes>"
            ],
            "image/png": "[encoded data removed]"
          },
          "metadata": {
            "needs_background": "light"
          }
        }
      ]
    },
    {
      "cell_type": "code",
      "source": [
        "print(\"\\nTF-IDF Results:\")\n",
        "print(\"----------------------------------------\")\n",
        "fit_model(nb_model, tfidf_x_train, tfidf_x_val, y_train, y_val)"
      ],
      "metadata": {
        "colab": {
          "base_uri": "https://localhost:8080/",
          "height": 1000
        },
        "id": "iAJCbRt7DIFg",
        "outputId": "5e86e608-aef9-4308-afa7-e46aa4d50b04"
      },
      "execution_count": 26,
      "outputs": [
        {
          "output_type": "stream",
          "name": "stdout",
          "text": [
            "\n",
            "TF-IDF Results:\n",
            "----------------------------------------\n",
            "Model Results on the training set...\n",
            "Classification Report:-\n",
            "              precision    recall  f1-score   support\n",
            "\n",
            "           0       0.92      0.91      0.92     10016\n",
            "           1       0.91      0.92      0.92      9984\n",
            "\n",
            "    accuracy                           0.92     20000\n",
            "   macro avg       0.92      0.92      0.92     20000\n",
            "weighted avg       0.92      0.92      0.92     20000\n",
            "\n",
            "Confusion Matrix:-\n"
          ]
        },
        {
          "output_type": "display_data",
          "data": {
            "text/plain": [
              "<Figure size 432x288 with 2 Axes>"
            ],
            "image/png": "[encoded data removed]"
          },
          "metadata": {
            "needs_background": "light"
          }
        },
        {
          "output_type": "stream",
          "name": "stdout",
          "text": [
            "\n",
            "Model Results on the validation set...\n",
            "Classification Report:-\n",
            "              precision    recall  f1-score   support\n",
            "\n",
            "           0       0.87      0.88      0.87      2484\n",
            "           1       0.88      0.87      0.88      2516\n",
            "\n",
            "    accuracy                           0.88      5000\n",
            "   macro avg       0.88      0.88      0.87      5000\n",
            "weighted avg       0.88      0.88      0.88      5000\n",
            "\n",
            "Confusion Matrix:-\n"
          ]
        },
        {
          "output_type": "display_data",
          "data": {
            "text/plain": [
              "<Figure size 432x288 with 2 Axes>"
            ],
            "image/png": "[encoded data removed]"
          },
          "metadata": {
            "needs_background": "light"
          }
        }
      ]
    },
    {
      "cell_type": "markdown",
      "source": [
        "### Logisitc Regression"
      ],
      "metadata": {
        "id": "N0ahX7YWUp1D"
      }
    },
    {
      "cell_type": "code",
      "source": [
        "lr_model = LogisticRegression(max_iter=1000)"
      ],
      "metadata": {
        "id": "PNxBZq90VVtu"
      },
      "execution_count": 27,
      "outputs": []
    },
    {
      "cell_type": "code",
      "source": [
        "print(\"Bag-of-Words Results:\")\n",
        "print(\"----------------------------------------\")\n",
        "fit_model(lr_model, bow_x_train, bow_x_val, y_train, y_val)"
      ],
      "metadata": {
        "colab": {
          "base_uri": "https://localhost:8080/",
          "height": 1000
        },
        "outputId": "0b2671e3-dac1-459b-83ac-aff59981e617",
        "id": "6SH_0W6AVVtv"
      },
      "execution_count": 28,
      "outputs": [
        {
          "output_type": "stream",
          "name": "stdout",
          "text": [
            "Bag-of-Words Results:\n",
            "----------------------------------------\n",
            "Model Results on the training set...\n",
            "Classification Report:-\n",
            "              precision    recall  f1-score   support\n",
            "\n",
            "           0       1.00      1.00      1.00     10016\n",
            "           1       1.00      1.00      1.00      9984\n",
            "\n",
            "    accuracy                           1.00     20000\n",
            "   macro avg       1.00      1.00      1.00     20000\n",
            "weighted avg       1.00      1.00      1.00     20000\n",
            "\n",
            "Confusion Matrix:-\n"
          ]
        },
        {
          "output_type": "display_data",
          "data": {
            "text/plain": [
              "<Figure size 432x288 with 2 Axes>"
            ],
            "image/png": "[encoded data removed]"
          },
          "metadata": {
            "needs_background": "light"
          }
        },
        {
          "output_type": "stream",
          "name": "stdout",
          "text": [
            "\n",
            "Model Results on the validation set...\n",
            "Classification Report:-\n",
            "              precision    recall  f1-score   support\n",
            "\n",
            "           0       0.88      0.89      0.88      2484\n",
            "           1       0.89      0.88      0.88      2516\n",
            "\n",
            "    accuracy                           0.88      5000\n",
            "   macro avg       0.88      0.88      0.88      5000\n",
            "weighted avg       0.88      0.88      0.88      5000\n",
            "\n",
            "Confusion Matrix:-\n"
          ]
        },
        {
          "output_type": "display_data",
          "data": {
            "text/plain": [
              "<Figure size 432x288 with 2 Axes>"
            ],
            "image/png": "[encoded data removed]"
          },
          "metadata": {
            "needs_background": "light"
          }
        }
      ]
    },
    {
      "cell_type": "code",
      "source": [
        "print(\"\\nTF-IDF Results:\")\n",
        "print(\"----------------------------------------\")\n",
        "fit_model(lr_model, tfidf_x_train, tfidf_x_val, y_train, y_val)"
      ],
      "metadata": {
        "colab": {
          "base_uri": "https://localhost:8080/",
          "height": 1000
        },
        "outputId": "77753a7c-4e8f-4fd8-d841-9722118915f2",
        "id": "7Odx8nUDVVtw"
      },
      "execution_count": 29,
      "outputs": [
        {
          "output_type": "stream",
          "name": "stdout",
          "text": [
            "\n",
            "TF-IDF Results:\n",
            "----------------------------------------\n",
            "Model Results on the training set...\n",
            "Classification Report:-\n",
            "              precision    recall  f1-score   support\n",
            "\n",
            "           0       0.95      0.93      0.94     10016\n",
            "           1       0.93      0.95      0.94      9984\n",
            "\n",
            "    accuracy                           0.94     20000\n",
            "   macro avg       0.94      0.94      0.94     20000\n",
            "weighted avg       0.94      0.94      0.94     20000\n",
            "\n",
            "Confusion Matrix:-\n"
          ]
        },
        {
          "output_type": "display_data",
          "data": {
            "text/plain": [
              "<Figure size 432x288 with 2 Axes>"
            ],
            "image/png": "[encoded data removed]"
          },
          "metadata": {
            "needs_background": "light"
          }
        },
        {
          "output_type": "stream",
          "name": "stdout",
          "text": [
            "\n",
            "Model Results on the validation set...\n",
            "Classification Report:-\n",
            "              precision    recall  f1-score   support\n",
            "\n",
            "           0       0.90      0.88      0.89      2484\n",
            "           1       0.88      0.90      0.89      2516\n",
            "\n",
            "    accuracy                           0.89      5000\n",
            "   macro avg       0.89      0.89      0.89      5000\n",
            "weighted avg       0.89      0.89      0.89      5000\n",
            "\n",
            "Confusion Matrix:-\n"
          ]
        },
        {
          "output_type": "display_data",
          "data": {
            "text/plain": [
              "<Figure size 432x288 with 2 Axes>"
            ],
            "image/png": "[encoded data removed]"
          },
          "metadata": {
            "needs_background": "light"
          }
        }
      ]
    },
    {
      "cell_type": "markdown",
      "source": [
        "### SVM Classifier"
      ],
      "metadata": {
        "id": "06u6ex9WV303"
      }
    },
    {
      "cell_type": "code",
      "source": [
        "svc_model = LinearSVC(max_iter=2000)"
      ],
      "metadata": {
        "id": "9UA370TQWBWu"
      },
      "execution_count": 36,
      "outputs": []
    },
    {
      "cell_type": "code",
      "source": [
        "print(\"Bag-of-Words Results:\")\n",
        "print(\"----------------------------------------\")\n",
        "fit_model(svc_model, bow_x_train, bow_x_val, y_train, y_val)"
      ],
      "metadata": {
        "colab": {
          "base_uri": "https://localhost:8080/",
          "height": 1000
        },
        "outputId": "09dc11d8-42f5-4b8a-e27f-9518d67dd764",
        "id": "ervk6AD5WBWu"
      },
      "execution_count": 37,
      "outputs": [
        {
          "output_type": "stream",
          "name": "stdout",
          "text": [
            "Bag-of-Words Results:\n",
            "----------------------------------------\n",
            "Model Results on the training set...\n",
            "Classification Report:-\n",
            "              precision    recall  f1-score   support\n",
            "\n",
            "           0       1.00      1.00      1.00     10016\n",
            "           1       1.00      1.00      1.00      9984\n",
            "\n",
            "    accuracy                           1.00     20000\n",
            "   macro avg       1.00      1.00      1.00     20000\n",
            "weighted avg       1.00      1.00      1.00     20000\n",
            "\n",
            "Confusion Matrix:-\n"
          ]
        },
        {
          "output_type": "display_data",
          "data": {
            "text/plain": [
              "<Figure size 432x288 with 2 Axes>"
            ],
            "image/png": "[encoded data removed]"
          },
          "metadata": {
            "needs_background": "light"
          }
        },
        {
          "output_type": "stream",
          "name": "stdout",
          "text": [
            "\n",
            "Model Results on the validation set...\n",
            "Classification Report:-\n",
            "              precision    recall  f1-score   support\n",
            "\n",
            "           0       0.87      0.88      0.87      2484\n",
            "           1       0.88      0.87      0.87      2516\n",
            "\n",
            "    accuracy                           0.87      5000\n",
            "   macro avg       0.87      0.87      0.87      5000\n",
            "weighted avg       0.87      0.87      0.87      5000\n",
            "\n",
            "Confusion Matrix:-\n"
          ]
        },
        {
          "output_type": "display_data",
          "data": {
            "text/plain": [
              "<Figure size 432x288 with 2 Axes>"
            ],
            "image/png": "[encoded data removed]"
          },
          "metadata": {
            "needs_background": "light"
          }
        }
      ]
    },
    {
      "cell_type": "code",
      "source": [
        "print(\"\\nTF-IDF Results:\")\n",
        "print(\"----------------------------------------\")\n",
        "fit_model(svc_model, tfidf_x_train, tfidf_x_val, y_train, y_val)"
      ],
      "metadata": {
        "colab": {
          "base_uri": "https://localhost:8080/",
          "height": 1000
        },
        "outputId": "b2670f36-ec04-4023-9eb4-28ba3b82c0a3",
        "id": "ITsR3JofWBWu"
      },
      "execution_count": 38,
      "outputs": [
        {
          "output_type": "stream",
          "name": "stdout",
          "text": [
            "\n",
            "TF-IDF Results:\n",
            "----------------------------------------\n",
            "Model Results on the training set...\n",
            "Classification Report:-\n",
            "              precision    recall  f1-score   support\n",
            "\n",
            "           0       0.99      1.00      1.00     10016\n",
            "           1       1.00      0.99      1.00      9984\n",
            "\n",
            "    accuracy                           1.00     20000\n",
            "   macro avg       1.00      1.00      1.00     20000\n",
            "weighted avg       1.00      1.00      1.00     20000\n",
            "\n",
            "Confusion Matrix:-\n"
          ]
        },
        {
          "output_type": "display_data",
          "data": {
            "text/plain": [
              "<Figure size 432x288 with 2 Axes>"
            ],
            "image/png": "[encoded data removed]"
          },
          "metadata": {
            "needs_background": "light"
          }
        },
        {
          "output_type": "stream",
          "name": "stdout",
          "text": [
            "\n",
            "Model Results on the validation set...\n",
            "Classification Report:-\n",
            "              precision    recall  f1-score   support\n",
            "\n",
            "           0       0.89      0.89      0.89      2484\n",
            "           1       0.89      0.89      0.89      2516\n",
            "\n",
            "    accuracy                           0.89      5000\n",
            "   macro avg       0.89      0.89      0.89      5000\n",
            "weighted avg       0.89      0.89      0.89      5000\n",
            "\n",
            "Confusion Matrix:-\n"
          ]
        },
        {
          "output_type": "display_data",
          "data": {
            "text/plain": [
              "<Figure size 432x288 with 2 Axes>"
            ],
            "image/png": "[encoded data removed]"
          },
          "metadata": {
            "needs_background": "light"
          }
        }
      ]
    },
    {
      "cell_type": "markdown",
      "source": [
        "### Performance Summary\n",
        "\n",
        "| Classifier | Training Macro F1 | Validation Macro F1 |\n",
        "| -- | -- | -- |\n",
        "| Naive Bayes | 0.92 | 0.87 |\n",
        "| Logistic Regression | 1.00 | 0.87 |\n",
        "| SVM | 1.00 | 0.89 |"
      ],
      "metadata": {
        "id": "Pw5pd-0MZq5c"
      }
    },
    {
      "cell_type": "markdown",
      "source": [
        "## Model Evaluation"
      ],
      "metadata": {
        "id": "ju2VqJvpawIr"
      }
    },
    {
      "cell_type": "code",
      "source": [
        "fit_model(svc_model, tfidf_x_train_val, tfidf_x_test, y_train_val, y_test)"
      ],
      "metadata": {
        "id": "56o65BSbMtf1",
        "colab": {
          "base_uri": "https://localhost:8080/",
          "height": 1000
        },
        "outputId": "c5a6ac6e-f1f6-405f-8403-a0ca1032650d"
      },
      "execution_count": 53,
      "outputs": [
        {
          "output_type": "stream",
          "name": "stdout",
          "text": [
            "Model Results on the training set...\n",
            "Classification Report:-\n",
            "              precision    recall  f1-score   support\n",
            "\n",
            "           0       0.99      0.99      0.99     12500\n",
            "           1       0.99      0.99      0.99     12500\n",
            "\n",
            "    accuracy                           0.99     25000\n",
            "   macro avg       0.99      0.99      0.99     25000\n",
            "weighted avg       0.99      0.99      0.99     25000\n",
            "\n",
            "Confusion Matrix:-\n"
          ]
        },
        {
          "output_type": "display_data",
          "data": {
            "text/plain": [
              "<Figure size 432x288 with 2 Axes>"
            ],
            "image/png": "[encoded data removed]"
          },
          "metadata": {
            "needs_background": "light"
          }
        },
        {
          "output_type": "stream",
          "name": "stdout",
          "text": [
            "\n",
            "Model Results on the validation set...\n",
            "Classification Report:-\n",
            "              precision    recall  f1-score   support\n",
            "\n",
            "           0       0.88      0.89      0.88     12500\n",
            "           1       0.89      0.88      0.88     12500\n",
            "\n",
            "    accuracy                           0.88     25000\n",
            "   macro avg       0.88      0.88      0.88     25000\n",
            "weighted avg       0.88      0.88      0.88     25000\n",
            "\n",
            "Confusion Matrix:-\n"
          ]
        },
        {
          "output_type": "display_data",
          "data": {
            "text/plain": [
              "<Figure size 432x288 with 2 Axes>"
            ],
            "image/png": "[encoded data removed]"
          },
          "metadata": {
            "needs_background": "light"
          }
        }
      ]
    },
    {
      "cell_type": "markdown",
      "source": [
        "## Error Analysis"
      ],
      "metadata": {
        "id": "7cmWP8PpdBQQ"
      }
    },
    {
      "cell_type": "code",
      "source": [
        "predictions = svc_model.predict(tfidf_x_test)\n",
        "predictions_confidence = svc_model.decision_function(tfidf_x_test)\n",
        "\n",
        "false_positives_indices = []\n",
        "false_negatives_indices = []\n",
        "for i, sentiment in enumerate(y_test):\n",
        "\n",
        "  # False Negative\n",
        "  if sentiment and not predictions[i]:\n",
        "    false_negatives_indices.append(i)\n",
        "\n",
        "  # False Positive\n",
        "  if not sentiment and predictions[i]:\n",
        "    false_positives_indices.append(i)"
      ],
      "metadata": {
        "id": "HP7K1TD5b2Uq"
      },
      "execution_count": 60,
      "outputs": []
    },
    {
      "cell_type": "code",
      "source": [
        "most_confident_false_positive_review_index = np.argmax(predictions_confidence[false_positives_indices])\n",
        "most_confident_false_negative_review_index = np.argmax(predictions_confidence[false_negatives_indices])"
      ],
      "metadata": {
        "id": "eWPn2BiBc8j6"
      },
      "execution_count": 66,
      "outputs": []
    },
    {
      "cell_type": "code",
      "source": [
        "imdb_df[imdb_df[\"split\"] == \"test\"].loc[25000 + most_confident_false_positive_review_index][\"raw_review\"]"
      ],
      "metadata": {
        "colab": {
          "base_uri": "https://localhost:8080/",
          "height": 91
        },
        "id": "iD7QmhdeeDdG",
        "outputId": "4fe31a54-0468-4934-8634-55698d80fca8"
      },
      "execution_count": 75,
      "outputs": [
        {
          "output_type": "execute_result",
          "data": {
            "text/plain": [
              "\"It has taken several viewings for me to fully appreciate this film. Initially, I was struck by the stylized sets, but found the rest slow going and dull. I thought that such a sensational subject needed the Ken Russell treatment to take it way over the top. I now find the enforced restraint (placed on the production by Mishima's widow) to be an asset. Some of the more lurid aspects of Mishima's life are reiterated and dramatized by corresponding themes from his novels. I think it helps to be familiar with the novels - that's what finally made the difference for me. Still feel the film overall could be a little tighter and warmer, but it's genuinely unique, and deserves serious attention. Love the fact that the Japanese characters speak Japanese - not English. The Philip Glass score is mesmerizing.\""
            ],
            "application/vnd.google.colaboratory.intrinsic+json": {
              "type": "string"
            }
          },
          "metadata": {},
          "execution_count": 75
        }
      ]
    },
    {
      "cell_type": "code",
      "source": [
        "imdb_df[imdb_df[\"split\"] == \"test\"].loc[25000 + most_confident_false_negative_review_index][\"raw_review\"]"
      ],
      "metadata": {
        "colab": {
          "base_uri": "https://localhost:8080/",
          "height": 91
        },
        "id": "qcEYg_P6e4bN",
        "outputId": "83aad754-2a74-4188-c0a6-5e88bae54d8b"
      },
      "execution_count": 76,
      "outputs": [
        {
          "output_type": "execute_result",
          "data": {
            "text/plain": [
              "'After spending five years in prison, Dr. Thomas Reed, played by the incomparable Vincent Ventresca, exiles himself to Purgatory Flats and winds up tending bar. He soon meets the luscious, angel-faced Sunny (Alexandra Holden). \"You are wicked.\" he tells her. \"You have no idea.\" she replies as she sips her Slo Comfortable Screw and languidly drags on her cig. Reed finds himself entwined in the violent troubles of her family and the femme fatale story unfolds set against the desolation and desperation of the oil-drained western town.<br /><br />Canny direction. Great performances. Superb entourage work. And some lust scenes that sizzle like the sun in Purgatory.'"
            ],
            "application/vnd.google.colaboratory.intrinsic+json": {
              "type": "string"
            }
          },
          "metadata": {},
          "execution_count": 76
        }
      ]
    },
    {
      "cell_type": "code",
      "source": [],
      "metadata": {
        "id": "RvMewcbBfiZ5"
      },
      "execution_count": null,
      "outputs": []
    }
  ]
}