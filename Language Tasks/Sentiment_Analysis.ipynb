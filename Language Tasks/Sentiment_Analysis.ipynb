{
  "nbformat": 4,
  "nbformat_minor": 0,
  "metadata": {
    "colab": {
      "provenance": [],
      "toc_visible": true
    },
    "kernelspec": {
      "name": "python3",
      "display_name": "Python 3"
    },
    "language_info": {
      "name": "python"
    }
  },
  "cells": [
    {
      "cell_type": "markdown",
      "source": [
        "# Sentiment Analysis on IMDb Movie Reviews Dataset"
      ],
      "metadata": {
        "id": "AsYrvE7GL-Zs"
      }
    },
    {
      "cell_type": "markdown",
      "source": [
        "## Abstract\n",
        "\n",
        "This notebook explores text classification task of sentiment analysis on the IMDb movie reviews dataset using the bag-of-words and TF-IDF vectorization methods, and a naive Bayes classifier. "
      ],
      "metadata": {
        "id": "A_KPEIeVMEt9"
      }
    },
    {
      "cell_type": "markdown",
      "source": [
        "## Table of Contents"
      ],
      "metadata": {
        "id": "HzqFwlWtMJgU"
      }
    },
    {
      "cell_type": "markdown",
      "source": [
        ">[Sentiment Analysis on IMDb Movie Reviews Dataset](#scrollTo=AsYrvE7GL-Zs)\n",
        "\n",
        ">>[Abstract](#scrollTo=A_KPEIeVMEt9)\n",
        "\n",
        ">>[Table of Contents](#scrollTo=HzqFwlWtMJgU)\n",
        "\n",
        ">>[Sentiment Analysis](#scrollTo=K2Fbs5e_MLAx)\n",
        "\n",
        ">>>[Feature Extraction](#scrollTo=9SiURGCdPOmr)\n",
        "\n",
        ">>>[Dimensionality Reduction](#scrollTo=-8iKeuybQ2E6)\n",
        "\n",
        ">>>[Classification](#scrollTo=ln59hS-LSPGQ)\n",
        "\n",
        ">>>[Evaluation](#scrollTo=J7xjK6RwSQtG)\n",
        "\n",
        ">>[Implementation](#scrollTo=5X3uRJ1jzfm7)\n",
        "\n",
        ">>>[Imports](#scrollTo=6ORKupGTzlMw)\n",
        "\n",
        ">>>[IMDb Movie Reviews Dataset](#scrollTo=x4ffSBagyc3v)\n",
        "\n",
        ">>>[Load the Dataset into a DataFrame](#scrollTo=HiMxnM8BzobK)\n",
        "\n",
        ">>>[Text Preprocessing](#scrollTo=cYlBvMrtT_PB)\n",
        "\n",
        ">>[Text Vectorization](#scrollTo=9CorM9zGVPQ9)\n",
        "\n",
        ">>>[Bag-of-Words Model](#scrollTo=Y1ubcWhhVVkq)\n",
        "\n",
        ">>>[Term Frequency-Inverse Document Frequency](#scrollTo=1XB_qBHMYy6B)\n",
        "\n",
        ">>[Classification](#scrollTo=rpfwxDcmboHe)\n",
        "\n",
        ">>>[Naive Bayes Classifier](#scrollTo=eOOrbATHbpb8)\n",
        "\n"
      ],
      "metadata": {
        "colab_type": "toc",
        "id": "q3V20S0GMOSL"
      }
    },
    {
      "cell_type": "markdown",
      "source": [
        "## Sentiment Analysis\n",
        "\n",
        "Sentiment analysis (or opinion mining) is a natural language processing (NLP) classification task of determining the sentiment - the positive or negative orientation a writer expresses toward some subject in a given text. \n",
        "\n",
        "Sentiment analysis allows businesses to identify customer sentiment toward\n",
        "products, brands or services in online conversations and feedback. Sentiment analysis models focus on polarity (positive, negative, neutral) but also on feelings and emotions (e.g. angry, happy, sad) and even on intentions (e.g. interested, not interested).\n",
        "\n",
        "Most text classification and document categorization systems can be deconstructed into the following four phases: \n",
        "- Features Extraction\n",
        "- Dimensionality Reduction\n",
        "- Classification\n",
        "- Evaluation "
      ],
      "metadata": {
        "id": "K2Fbs5e_MLAx"
      }
    },
    {
      "cell_type": "markdown",
      "source": [
        "### Feature Extraction\n",
        "\n",
        "In general, texts and documents are unstructured data sets. However, these unstructured text sequences must be converted into a structured feature space when using mathematical modeling as part of a classifier. First, the data needs to be cleaned to omit unnecessary characters and words. After the data has been cleaned, formal feature extraction methods can be applied. \n",
        "\n",
        "The common techniques of feature extractions are:\n",
        "- Bag-of-Words (BoW)\n",
        "- Term Frequency-Inverse Document Frequency (TF-IDF)\n",
        "- Word2Vec  \n",
        "- Global Vectors for Word Representation (GloVe)\n",
        "\n",
        "These methods are categorized as either word embedding or weighted word feature extraction techniques."
      ],
      "metadata": {
        "id": "9SiURGCdPOmr"
      }
    },
    {
      "cell_type": "markdown",
      "source": [
        "### Dimensionality Reduction\n",
        "\n",
        "The dimensionality reduction step is an optional part of the pipeline which could be part of the classification system. For example, using Term Frequency-Inverse Document Frequency (TF-IDF) as a feature extraction method when there are 200k unique words in the training set, leads to a very expensive computational cost. Thus, dimensionality reduction techniques such as PCA, LDA, and NMF can reduce the computation time by projecting the feature space onto another lower-dimensional space."
      ],
      "metadata": {
        "id": "-8iKeuybQ2E6"
      }
    },
    {
      "cell_type": "markdown",
      "source": [
        "### Classification\n",
        "\n",
        "One of the simplest classification algorithms are the Naive Bayes and logistic regression classifiers. However, deep learning approaches have achieved surpassing results in comparison to traditional machine learning algorithms."
      ],
      "metadata": {
        "id": "ln59hS-LSPGQ"
      }
    },
    {
      "cell_type": "markdown",
      "source": [
        "### Evaluation\n",
        "\n",
        "Accuracy calculation is the simplest method of evaluation but does not work for unbalanced data sets. Metrics like $F_β$ are more informative in this case."
      ],
      "metadata": {
        "id": "J7xjK6RwSQtG"
      }
    },
    {
      "cell_type": "markdown",
      "source": [
        "## Implementation"
      ],
      "metadata": {
        "id": "5X3uRJ1jzfm7"
      }
    },
    {
      "cell_type": "markdown",
      "source": [
        "### Imports"
      ],
      "metadata": {
        "id": "6ORKupGTzlMw"
      }
    },
    {
      "cell_type": "code",
      "source": [
        "# Download and Extract the Dataset\n",
        "import os\n",
        "import tarfile\n",
        "\n",
        "from io import BytesIO\n",
        "from urllib.request import urlretrieve\n",
        "\n",
        "# Loading the Dataset\n",
        "import pandas as pd"
      ],
      "metadata": {
        "id": "gRrzBSTszM-c"
      },
      "execution_count": null,
      "outputs": []
    },
    {
      "cell_type": "code",
      "source": [
        "# Preprocessing the Dataset\n",
        "import re\n",
        "import nltk\n",
        "import string\n",
        "\n",
        "from nltk.tag import pos_tag\n",
        "from nltk.corpus import stopwords\n",
        "from nltk.stem import PorterStemmer\n",
        "from nltk.tokenize import word_tokenize\n",
        "nltk.download(\"punkt\")\n",
        "nltk.download(\"omw-1.4\")\n",
        "nltk.download(\"wordnet\")\n",
        "nltk.download(\"stopwords\")"
      ],
      "metadata": {
        "colab": {
          "base_uri": "https://localhost:8080/"
        },
        "id": "Rt5pIND30mhh",
        "outputId": "4df74849-2948-4d40-b0b5-0227d03b6396"
      },
      "execution_count": null,
      "outputs": [
        {
          "output_type": "stream",
          "name": "stderr",
          "text": [
            "[nltk_data] Downloading package punkt to /root/nltk_data...\n",
            "[nltk_data]   Package punkt is already up-to-date!\n",
            "[nltk_data] Downloading package omw-1.4 to /root/nltk_data...\n",
            "[nltk_data]   Package omw-1.4 is already up-to-date!\n",
            "[nltk_data] Downloading package wordnet to /root/nltk_data...\n",
            "[nltk_data]   Package wordnet is already up-to-date!\n",
            "[nltk_data] Downloading package stopwords to /root/nltk_data...\n",
            "[nltk_data]   Package stopwords is already up-to-date!\n"
          ]
        },
        {
          "output_type": "execute_result",
          "data": {
            "text/plain": [
              "True"
            ]
          },
          "metadata": {},
          "execution_count": 2
        }
      ]
    },
    {
      "cell_type": "code",
      "source": [
        "# Text Vectorization\n",
        "import tensorflow as tf\n",
        "from keras.layers import TextVectorization"
      ],
      "metadata": {
        "id": "TEF9UzMT4hd3"
      },
      "execution_count": null,
      "outputs": []
    },
    {
      "cell_type": "code",
      "source": [
        "# Model Creation\n",
        "from sklearn.naive_bayes import MultinomialNB\n",
        "from sklearn.linear_model import LogisticRegression\n",
        "\n",
        "# Models Evaluation\n",
        "from sklearn.metrics import accuracy_score\n",
        "from sklearn.metrics import classification_report, confusion_matrix, ConfusionMatrixDisplay\n",
        "\n",
        "import matplotlib.pyplot as plt"
      ],
      "metadata": {
        "id": "0kLBLEs4_auG"
      },
      "execution_count": null,
      "outputs": []
    },
    {
      "cell_type": "markdown",
      "source": [
        "### IMDb Movie Reviews Dataset\n",
        "\n",
        "The IMDb Movie Reviews dataset is a binary sentiment analysis dataset consisting of 50,000 reviews from the Internet Movie Database (IMDb) labeled as positive or negative. The dataset contains an even number of positive and negative reviews. Only highly polarizing reviews are considered. A negative review has a score ≤ 4 out of 10, and a positive review has a score ≥ 7 out of 10. No more than 30 reviews are included per movie. The dataset contains additional unlabeled data.\n",
        "\n",
        "The [dataset](http://ai.stanford.edu/~amaas/data/sentiment/) is downloaded as a *`.tar.gz`* file. The file is then extracted into the `data/` directory.\n",
        "\n",
        "Thus, the structure of the dataset directory is as follows:\n",
        "\n",
        "```\n",
        "data/\n",
        "├── aclImdb/\n",
        "      ├── test/\n",
        "      │     ├── pos/\n",
        "      │     ├── neg/\n",
        "      ├── train/\n",
        "            ├── pos/\n",
        "            └── neg/\n",
        "```"
      ],
      "metadata": {
        "id": "x4ffSBagyc3v"
      }
    },
    {
      "cell_type": "code",
      "source": [
        "# Specify the dataset URL\n",
        "corpus_url = \"http://ai.stanford.edu/~amaas/data/sentiment/aclImdb_v1.tar.gz\"\n",
        "\n",
        "working_directory = os.getcwd()\n",
        "dataset_directory = os.path.join(os.getcwd(), \"data\")\n",
        "tarfile_path = os.path.join(working_directory, \"aclImdb_v1.tar.gz\")\n",
        "\n",
        "# Download and extract the dataset, if haven't already done so\n",
        "if \"data\" not in os.listdir(working_directory):\n",
        "\n",
        "  print(\"Downloading the Dataset...\")\n",
        "  urlretrieve(corpus_url, tarfile_path)\n",
        "  print(\"Dataset Downloaded.\")\n",
        "\n",
        "  print(\"Extracting the Dataset...\")\n",
        "  with tarfile.open(tarfile_path) as tar_file:\n",
        "    tar_file.extractall(dataset_directory)\n",
        "  print(\"Dataset Extracted.\")\n",
        "\n",
        "else:\n",
        "  print(\"Dataset is ready.\")\n",
        "\n",
        "# Update the dataset directory to \"/data/aclImdb\"\n",
        "dataset_directory = os.path.join(dataset_directory, \"aclImdb\")"
      ],
      "metadata": {
        "colab": {
          "base_uri": "https://localhost:8080/"
        },
        "id": "C9dUhYENzFHH",
        "outputId": "4db2bb5d-0689-44de-b69c-93953e970b69"
      },
      "execution_count": null,
      "outputs": [
        {
          "output_type": "stream",
          "name": "stdout",
          "text": [
            "Dataset is ready.\n"
          ]
        }
      ]
    },
    {
      "cell_type": "markdown",
      "source": [
        "### Load the Dataset into a DataFrame\n",
        "\n",
        "The resulting DataFrame should be of the following structure:\n",
        "\n",
        "| review | label | split |\n",
        "| --- | --- | --- |\n",
        "| --- | --- | --- |\n",
        "\n",
        "Where:\n",
        "\n",
        "*   `review` *(str)* is the text of the review.\n",
        "*   `label` *(int)* 1 for positive reviews, 0 for negative ones.\n",
        "*   `split` *(str)* whether the review belongs to the `train` or `val` set."
      ],
      "metadata": {
        "id": "HiMxnM8BzobK"
      }
    },
    {
      "cell_type": "code",
      "source": [
        "# Create lists that will contain the reviews and group them in a dictionary\n",
        "train_pos, train_neg, test_pos, test_neg = [], [], [], []\n",
        "reviews_dict = {\n",
        "    \"train/pos\": train_pos,\n",
        "    \"train/neg\": train_neg,\n",
        "    \"test/pos\": test_pos,\n",
        "    \"test/neg\": test_neg\n",
        "}\n",
        "\n",
        "# Iterate over the dataset train/test pos/neg directories\n",
        "for data_subset in reviews_dict:\n",
        "  \n",
        "  # Iterate over each file in the current directory\n",
        "  for file_name in os.listdir(f\"{dataset_directory}/{data_subset}\"):\n",
        "\n",
        "    # Open file and append the text review in its corresponding dictionary list\n",
        "    with open(f\"{dataset_directory}/{data_subset}/{file_name}\") as review_file:\n",
        "      reviews_dict[data_subset].append(review_file.read())\n",
        "\n",
        "# Group all reviews in a DataFrame\n",
        "imdb_df = pd.concat(\n",
        "    [pd.DataFrame({\"split\": \"train\", \"sentiment\": 1, \"raw_review\": train_pos}),\n",
        "    pd.DataFrame({\"split\": \"train\", \"sentiment\": 0, \"raw_review\": train_neg}),\n",
        "    pd.DataFrame({\"split\": \"test\", \"sentiment\": 1, \"raw_review\": test_pos}),\n",
        "    pd.DataFrame({\"split\": \"test\", \"sentiment\": 0, \"raw_review\": test_neg})],\n",
        "    axis=0, ignore_index=True\n",
        ")"
      ],
      "metadata": {
        "id": "3VD6lCwdzrrl"
      },
      "execution_count": null,
      "outputs": []
    },
    {
      "cell_type": "code",
      "source": [
        "imdb_df"
      ],
      "metadata": {
        "colab": {
          "base_uri": "https://localhost:8080/",
          "height": 424
        },
        "id": "OHnC55H50GwE",
        "outputId": "19439ec4-5172-47ab-c8ef-1af2600276a8"
      },
      "execution_count": null,
      "outputs": [
        {
          "output_type": "execute_result",
          "data": {
            "text/plain": [
              "       split  sentiment                                         raw_review\n",
              "0      train          1  It's nothing brilliant, groundbreaking or inno...\n",
              "1      train          1  First a quick 'shut up!' to those saying this ...\n",
              "2      train          1  This is another fantasy favorite from Ralph Ba...\n",
              "3      train          1  I read Schneebaum's book (same title as this f...\n",
              "4      train          1  Peaceful rancher Robert Sterling is on the los...\n",
              "...      ...        ...                                                ...\n",
              "49995   test          0  If you take the films, Mad Max, Beyond Thunder...\n",
              "49996   test          0  People don't seem to agree with me that movies...\n",
              "49997   test          0  This movie is one of the worst I've ever seen....\n",
              "49998   test          0  Mild spoiler in the second paragraph.<br /><br...\n",
              "49999   test          0  It's weird, this film; you get the impression ...\n",
              "\n",
              "[50000 rows x 3 columns]"
            ],
            "text/html": [
              "\n",
              "  <div id=\"df-5e4d518d-ed8b-4270-98b7-81526a25accf\">\n",
              "    <div class=\"colab-df-container\">\n",
              "      <div>\n",
              "<style scoped>\n",
              "    .dataframe tbody tr th:only-of-type {\n",
              "        vertical-align: middle;\n",
              "    }\n",
              "\n",
              "    .dataframe tbody tr th {\n",
              "        vertical-align: top;\n",
              "    }\n",
              "\n",
              "    .dataframe thead th {\n",
              "        text-align: right;\n",
              "    }\n",
              "</style>\n",
              "<table border=\"1\" class=\"dataframe\">\n",
              "  <thead>\n",
              "    <tr style=\"text-align: right;\">\n",
              "      <th></th>\n",
              "      <th>split</th>\n",
              "      <th>sentiment</th>\n",
              "      <th>raw_review</th>\n",
              "    </tr>\n",
              "  </thead>\n",
              "  <tbody>\n",
              "    <tr>\n",
              "      <th>0</th>\n",
              "      <td>train</td>\n",
              "      <td>1</td>\n",
              "      <td>It's nothing brilliant, groundbreaking or inno...</td>\n",
              "    </tr>\n",
              "    <tr>\n",
              "      <th>1</th>\n",
              "      <td>train</td>\n",
              "      <td>1</td>\n",
              "      <td>First a quick 'shut up!' to those saying this ...</td>\n",
              "    </tr>\n",
              "    <tr>\n",
              "      <th>2</th>\n",
              "      <td>train</td>\n",
              "      <td>1</td>\n",
              "      <td>This is another fantasy favorite from Ralph Ba...</td>\n",
              "    </tr>\n",
              "    <tr>\n",
              "      <th>3</th>\n",
              "      <td>train</td>\n",
              "      <td>1</td>\n",
              "      <td>I read Schneebaum's book (same title as this f...</td>\n",
              "    </tr>\n",
              "    <tr>\n",
              "      <th>4</th>\n",
              "      <td>train</td>\n",
              "      <td>1</td>\n",
              "      <td>Peaceful rancher Robert Sterling is on the los...</td>\n",
              "    </tr>\n",
              "    <tr>\n",
              "      <th>...</th>\n",
              "      <td>...</td>\n",
              "      <td>...</td>\n",
              "      <td>...</td>\n",
              "    </tr>\n",
              "    <tr>\n",
              "      <th>49995</th>\n",
              "      <td>test</td>\n",
              "      <td>0</td>\n",
              "      <td>If you take the films, Mad Max, Beyond Thunder...</td>\n",
              "    </tr>\n",
              "    <tr>\n",
              "      <th>49996</th>\n",
              "      <td>test</td>\n",
              "      <td>0</td>\n",
              "      <td>People don't seem to agree with me that movies...</td>\n",
              "    </tr>\n",
              "    <tr>\n",
              "      <th>49997</th>\n",
              "      <td>test</td>\n",
              "      <td>0</td>\n",
              "      <td>This movie is one of the worst I've ever seen....</td>\n",
              "    </tr>\n",
              "    <tr>\n",
              "      <th>49998</th>\n",
              "      <td>test</td>\n",
              "      <td>0</td>\n",
              "      <td>Mild spoiler in the second paragraph.&lt;br /&gt;&lt;br...</td>\n",
              "    </tr>\n",
              "    <tr>\n",
              "      <th>49999</th>\n",
              "      <td>test</td>\n",
              "      <td>0</td>\n",
              "      <td>It's weird, this film; you get the impression ...</td>\n",
              "    </tr>\n",
              "  </tbody>\n",
              "</table>\n",
              "<p>50000 rows × 3 columns</p>\n",
              "</div>\n",
              "      <button class=\"colab-df-convert\" onclick=\"convertToInteractive('df-5e4d518d-ed8b-4270-98b7-81526a25accf')\"\n",
              "              title=\"Convert this dataframe to an interactive table.\"\n",
              "              style=\"display:none;\">\n",
              "        \n",
              "  <svg xmlns=\"http://www.w3.org/2000/svg\" height=\"24px\"viewBox=\"0 0 24 24\"\n",
              "       width=\"24px\">\n",
              "    <path d=\"M0 0h24v24H0V0z\" fill=\"none\"/>\n",
              "    <path d=\"M18.56 5.44l.94 2.06.94-2.06 2.06-.94-2.06-.94-.94-2.06-.94 2.06-2.06.94zm-11 1L8.5 8.5l.94-2.06 2.06-.94-2.06-.94L8.5 2.5l-.94 2.06-2.06.94zm10 10l.94 2.06.94-2.06 2.06-.94-2.06-.94-.94-2.06-.94 2.06-2.06.94z\"/><path d=\"M17.41 7.96l-1.37-1.37c-.4-.4-.92-.59-1.43-.59-.52 0-1.04.2-1.43.59L10.3 9.45l-7.72 7.72c-.78.78-.78 2.05 0 2.83L4 21.41c.39.39.9.59 1.41.59.51 0 1.02-.2 1.41-.59l7.78-7.78 2.81-2.81c.8-.78.8-2.07 0-2.86zM5.41 20L4 18.59l7.72-7.72 1.47 1.35L5.41 20z\"/>\n",
              "  </svg>\n",
              "      </button>\n",
              "      \n",
              "  <style>\n",
              "    .colab-df-container {\n",
              "      display:flex;\n",
              "      flex-wrap:wrap;\n",
              "      gap: 12px;\n",
              "    }\n",
              "\n",
              "    .colab-df-convert {\n",
              "      background-color: #E8F0FE;\n",
              "      border: none;\n",
              "      border-radius: 50%;\n",
              "      cursor: pointer;\n",
              "      display: none;\n",
              "      fill: #1967D2;\n",
              "      height: 32px;\n",
              "      padding: 0 0 0 0;\n",
              "      width: 32px;\n",
              "    }\n",
              "\n",
              "    .colab-df-convert:hover {\n",
              "      background-color: #E2EBFA;\n",
              "      box-shadow: 0px 1px 2px rgba(60, 64, 67, 0.3), 0px 1px 3px 1px rgba(60, 64, 67, 0.15);\n",
              "      fill: #174EA6;\n",
              "    }\n",
              "\n",
              "    [theme=dark] .colab-df-convert {\n",
              "      background-color: #3B4455;\n",
              "      fill: #D2E3FC;\n",
              "    }\n",
              "\n",
              "    [theme=dark] .colab-df-convert:hover {\n",
              "      background-color: #434B5C;\n",
              "      box-shadow: 0px 1px 3px 1px rgba(0, 0, 0, 0.15);\n",
              "      filter: drop-shadow(0px 1px 2px rgba(0, 0, 0, 0.3));\n",
              "      fill: #FFFFFF;\n",
              "    }\n",
              "  </style>\n",
              "\n",
              "      <script>\n",
              "        const buttonEl =\n",
              "          document.querySelector('#df-5e4d518d-ed8b-4270-98b7-81526a25accf button.colab-df-convert');\n",
              "        buttonEl.style.display =\n",
              "          google.colab.kernel.accessAllowed ? 'block' : 'none';\n",
              "\n",
              "        async function convertToInteractive(key) {\n",
              "          const element = document.querySelector('#df-5e4d518d-ed8b-4270-98b7-81526a25accf');\n",
              "          const dataTable =\n",
              "            await google.colab.kernel.invokeFunction('convertToInteractive',\n",
              "                                                     [key], {});\n",
              "          if (!dataTable) return;\n",
              "\n",
              "          const docLinkHtml = 'Like what you see? Visit the ' +\n",
              "            '<a target=\"_blank\" href=https://colab.research.google.com/notebooks/data_table.ipynb>data table notebook</a>'\n",
              "            + ' to learn more about interactive tables.';\n",
              "          element.innerHTML = '';\n",
              "          dataTable['output_type'] = 'display_data';\n",
              "          await google.colab.output.renderOutput(dataTable, element);\n",
              "          const docLink = document.createElement('div');\n",
              "          docLink.innerHTML = docLinkHtml;\n",
              "          element.appendChild(docLink);\n",
              "        }\n",
              "      </script>\n",
              "    </div>\n",
              "  </div>\n",
              "  "
            ]
          },
          "metadata": {},
          "execution_count": 7
        }
      ]
    },
    {
      "cell_type": "markdown",
      "source": [
        "### Text Preprocessing\n",
        "\n",
        "Proper text cleaning and normalization is crucial for an informative featurization. The following step are applied to the raw corpus to clean and normalize it:\n",
        "\n",
        "*   **Lowercase** the entire corpus.\n",
        "*   Remove any **HTML tags** (these are a side effect of scraping the reviews off of the web).\n",
        "*   Remove any **numeric values**.\n",
        "*   Replace **verb contractions** with their complete form.\n",
        "*   Remove **punctuations**.\n",
        "*   Remove **stopwords**.\n",
        "*   **Stem** the corpus."
      ],
      "metadata": {
        "id": "cYlBvMrtT_PB"
      }
    },
    {
      "cell_type": "code",
      "source": [
        "stop_words = set(stopwords.words(\"english\"))\n",
        "stop_words.difference_update({\"no\", \"not\", \"nor\"})\n",
        "stop_words = stop_words.union({\"'d\", \"'s\"})\n",
        "stemmer = PorterStemmer()\n",
        "\n",
        "def preprocess(text):\n",
        "\n",
        "  # Lowercase the review\n",
        "  text = text.lower()\n",
        "\n",
        "  # Remove html tags\n",
        "  text = re.sub(\"<[^>]*>\", \" \", text)\n",
        "\n",
        "  # Remove numbers\n",
        "  text = re.sub(\"[0-9]+\", \" \", text)\n",
        "  \n",
        "  # Replace verbs contractions with their complete form\n",
        "  text = re.sub(r\"won't\", \"will not\", text)\n",
        "  text = re.sub(r\"can't\", \"can not\", text)\n",
        "  text = re.sub(r\"n't\", \" not\", text)\n",
        "  text = re.sub(r\"'ve\", \" have\", text)\n",
        "  text = re.sub(r\"'ll\", \" will\", text)\n",
        "  text = re.sub(r\"'re\", \" are\", text)\n",
        "  text = re.sub(r\"'m\", \" am\", text)\n",
        "\n",
        "  # Tokenize the text into a list\n",
        "  words_list = word_tokenize(text)\n",
        "\n",
        "  # Remove stop words\n",
        "  filtered_tokens = [w for w in words_list if w not in stop_words]\n",
        "\n",
        "  # Stem tokens\n",
        "  stemmed_tokens = [stemmer.stem(w) for w in filtered_tokens]\n",
        "  text = \" \".join(stemmed_tokens)\n",
        "\n",
        "  # Remove punctuation\n",
        "  text = text.translate(str.maketrans(\"\", \"\", string.punctuation))\n",
        "\n",
        "  # Remove redundant whitespace\n",
        "  text = re.sub(\"[ ]+\", \" \", text)\n",
        "\n",
        "  return text"
      ],
      "metadata": {
        "id": "ODxTA3aJ0exh"
      },
      "execution_count": null,
      "outputs": []
    },
    {
      "cell_type": "code",
      "source": [
        "imdb_df[\"raw_review\"][2]"
      ],
      "metadata": {
        "colab": {
          "base_uri": "https://localhost:8080/",
          "height": 122
        },
        "id": "BriHwqxV1DNP",
        "outputId": "5e4ad079-7d16-419b-f0e5-0d2f8e25d6e5"
      },
      "execution_count": null,
      "outputs": [
        {
          "output_type": "execute_result",
          "data": {
            "text/plain": [
              "\"This is another fantasy favorite from Ralph Bakshi; after watching it on YouTube that is. Set in the distant past after the Ice Age, it is a prehistoric sword-and-sorcery quest between good and evil. Nekron, Lord of the realm of Ice and his mother Queen Juliana, has set their sights on conquest of the known world. When their glaciers destroy's the village of a man named Larn, he (Larn) vows to avenge his people and kill the Ice Lord. Meanwhile, the sub-human minions of Nekron and Juliana capture Firekeep's King Jarol's sultry daughter Princess Teegra; but she manages to escape, and eventually meets with Larn, who promises to escort her back to Firekeep; if the sub-humans don't find them first.<br /><br />This movie did very little box office (as did most of Ralph Bakshi's films), but has become a cult classic, partly for the quality of the art, a collaboration between Ralph Bakshi and the famed fantasy artist Frank Frazetta. Also, I have heard that the screenplay was written by Gerry Conway and Roy Thomas, the two men who had done Conan comic book stories, and the background painters included James Gurney, the illustrator of the Dinotopia novels; though admittedly I had never read Conan or Dinotopia. And also the painter Thomas Kinkade, noted for his artwork for figurines, music-boxes for The Bradford Exchange Company besides paintings. And like Bakshi's films The Lord of the Rings and American Pop, this movie was rotoscoped, but the process works better in this film than in the former.<br /><br />So overall, I think it's one of the best animated fantasy movies ever made, and an awesome collaboration between two great minds - Ralph Bakshi and Frank Frazetta. With plenty of fantasy, sexual innuendo, and thrilling adventure.\""
            ],
            "application/vnd.google.colaboratory.intrinsic+json": {
              "type": "string"
            }
          },
          "metadata": {},
          "execution_count": 9
        }
      ]
    },
    {
      "cell_type": "code",
      "source": [
        "preprocess(imdb_df[\"raw_review\"][2])"
      ],
      "metadata": {
        "colab": {
          "base_uri": "https://localhost:8080/",
          "height": 122
        },
        "id": "tlQGp3qm1J6p",
        "outputId": "34cc2fb8-e13b-4a7f-f211-7b1f849e2630"
      },
      "execution_count": null,
      "outputs": [
        {
          "output_type": "execute_result",
          "data": {
            "text/plain": [
              "'anoth fantasi favorit ralph bakshi watch youtub set distant past ice age prehistor swordandsorceri quest good evil nekron lord realm ice mother queen juliana set sight conquest known world glacier destroy villag man name larn larn vow aveng peopl kill ice lord meanwhil subhuman minion nekron juliana captur firekeep king jarol sultri daughter princess teegra manag escap eventu meet larn promis escort back firekeep subhuman not find first movi littl box offic ralph bakshi film becom cult classic partli qualiti art collabor ralph bakshi fame fantasi artist frank frazetta also heard screenplay written gerri conway roy thoma two men done conan comic book stori background painter includ jame gurney illustr dinotopia novel though admittedli never read conan dinotopia also painter thoma kinkad note artwork figurin musicbox bradford exchang compani besid paint like bakshi film lord ring american pop movi rotoscop process work better film former overal think one best anim fantasi movi ever made awesom collabor two great mind ralph bakshi frank frazetta plenti fantasi sexual innuendo thrill adventur '"
            ],
            "application/vnd.google.colaboratory.intrinsic+json": {
              "type": "string"
            }
          },
          "metadata": {},
          "execution_count": 10
        }
      ]
    },
    {
      "cell_type": "code",
      "source": [
        "imdb_df[\"preprocessed_review\"] = imdb_df[\"raw_review\"].apply(preprocess)\n",
        "imdb_df"
      ],
      "metadata": {
        "colab": {
          "base_uri": "https://localhost:8080/",
          "height": 424
        },
        "id": "uaF8c7Wq3ZPT",
        "outputId": "d36976e1-d19f-4196-ec2d-b3a07625aaa6"
      },
      "execution_count": null,
      "outputs": [
        {
          "output_type": "execute_result",
          "data": {
            "text/plain": [
              "       split  sentiment                                         raw_review  \\\n",
              "0      train          1  It's nothing brilliant, groundbreaking or inno...   \n",
              "1      train          1  First a quick 'shut up!' to those saying this ...   \n",
              "2      train          1  This is another fantasy favorite from Ralph Ba...   \n",
              "3      train          1  I read Schneebaum's book (same title as this f...   \n",
              "4      train          1  Peaceful rancher Robert Sterling is on the los...   \n",
              "...      ...        ...                                                ...   \n",
              "49995   test          0  If you take the films, Mad Max, Beyond Thunder...   \n",
              "49996   test          0  People don't seem to agree with me that movies...   \n",
              "49997   test          0  This movie is one of the worst I've ever seen....   \n",
              "49998   test          0  Mild spoiler in the second paragraph.<br /><br...   \n",
              "49999   test          0  It's weird, this film; you get the impression ...   \n",
              "\n",
              "                                     preprocessed_review  \n",
              "0      noth brilliant groundbreak innov dog day reaso...  \n",
              "1      first quick shut say movi stink not go everi m...  \n",
              "2      anoth fantasi favorit ralph bakshi watch youtu...  \n",
              "3      read schneebaum book titl film first publish d...  \n",
              "4      peac rancher robert sterl lose side rang war r...  \n",
              "...                                                  ...  \n",
              "49995  take film mad max beyond thunderdom movi steel...  \n",
              "49996  peopl not seem agre movi bad good time type pe...  \n",
              "49997  movi one worst ever seen even hangov not help ...  \n",
              "49998  mild spoiler second paragraph anna christi gar...  \n",
              "49999  weird film get impress maker snoozefest spent ...  \n",
              "\n",
              "[50000 rows x 4 columns]"
            ],
            "text/html": [
              "\n",
              "  <div id=\"df-09bd0233-6ef0-426f-9587-45e0c087ccd1\">\n",
              "    <div class=\"colab-df-container\">\n",
              "      <div>\n",
              "<style scoped>\n",
              "    .dataframe tbody tr th:only-of-type {\n",
              "        vertical-align: middle;\n",
              "    }\n",
              "\n",
              "    .dataframe tbody tr th {\n",
              "        vertical-align: top;\n",
              "    }\n",
              "\n",
              "    .dataframe thead th {\n",
              "        text-align: right;\n",
              "    }\n",
              "</style>\n",
              "<table border=\"1\" class=\"dataframe\">\n",
              "  <thead>\n",
              "    <tr style=\"text-align: right;\">\n",
              "      <th></th>\n",
              "      <th>split</th>\n",
              "      <th>sentiment</th>\n",
              "      <th>raw_review</th>\n",
              "      <th>preprocessed_review</th>\n",
              "    </tr>\n",
              "  </thead>\n",
              "  <tbody>\n",
              "    <tr>\n",
              "      <th>0</th>\n",
              "      <td>train</td>\n",
              "      <td>1</td>\n",
              "      <td>It's nothing brilliant, groundbreaking or inno...</td>\n",
              "      <td>noth brilliant groundbreak innov dog day reaso...</td>\n",
              "    </tr>\n",
              "    <tr>\n",
              "      <th>1</th>\n",
              "      <td>train</td>\n",
              "      <td>1</td>\n",
              "      <td>First a quick 'shut up!' to those saying this ...</td>\n",
              "      <td>first quick shut say movi stink not go everi m...</td>\n",
              "    </tr>\n",
              "    <tr>\n",
              "      <th>2</th>\n",
              "      <td>train</td>\n",
              "      <td>1</td>\n",
              "      <td>This is another fantasy favorite from Ralph Ba...</td>\n",
              "      <td>anoth fantasi favorit ralph bakshi watch youtu...</td>\n",
              "    </tr>\n",
              "    <tr>\n",
              "      <th>3</th>\n",
              "      <td>train</td>\n",
              "      <td>1</td>\n",
              "      <td>I read Schneebaum's book (same title as this f...</td>\n",
              "      <td>read schneebaum book titl film first publish d...</td>\n",
              "    </tr>\n",
              "    <tr>\n",
              "      <th>4</th>\n",
              "      <td>train</td>\n",
              "      <td>1</td>\n",
              "      <td>Peaceful rancher Robert Sterling is on the los...</td>\n",
              "      <td>peac rancher robert sterl lose side rang war r...</td>\n",
              "    </tr>\n",
              "    <tr>\n",
              "      <th>...</th>\n",
              "      <td>...</td>\n",
              "      <td>...</td>\n",
              "      <td>...</td>\n",
              "      <td>...</td>\n",
              "    </tr>\n",
              "    <tr>\n",
              "      <th>49995</th>\n",
              "      <td>test</td>\n",
              "      <td>0</td>\n",
              "      <td>If you take the films, Mad Max, Beyond Thunder...</td>\n",
              "      <td>take film mad max beyond thunderdom movi steel...</td>\n",
              "    </tr>\n",
              "    <tr>\n",
              "      <th>49996</th>\n",
              "      <td>test</td>\n",
              "      <td>0</td>\n",
              "      <td>People don't seem to agree with me that movies...</td>\n",
              "      <td>peopl not seem agre movi bad good time type pe...</td>\n",
              "    </tr>\n",
              "    <tr>\n",
              "      <th>49997</th>\n",
              "      <td>test</td>\n",
              "      <td>0</td>\n",
              "      <td>This movie is one of the worst I've ever seen....</td>\n",
              "      <td>movi one worst ever seen even hangov not help ...</td>\n",
              "    </tr>\n",
              "    <tr>\n",
              "      <th>49998</th>\n",
              "      <td>test</td>\n",
              "      <td>0</td>\n",
              "      <td>Mild spoiler in the second paragraph.&lt;br /&gt;&lt;br...</td>\n",
              "      <td>mild spoiler second paragraph anna christi gar...</td>\n",
              "    </tr>\n",
              "    <tr>\n",
              "      <th>49999</th>\n",
              "      <td>test</td>\n",
              "      <td>0</td>\n",
              "      <td>It's weird, this film; you get the impression ...</td>\n",
              "      <td>weird film get impress maker snoozefest spent ...</td>\n",
              "    </tr>\n",
              "  </tbody>\n",
              "</table>\n",
              "<p>50000 rows × 4 columns</p>\n",
              "</div>\n",
              "      <button class=\"colab-df-convert\" onclick=\"convertToInteractive('df-09bd0233-6ef0-426f-9587-45e0c087ccd1')\"\n",
              "              title=\"Convert this dataframe to an interactive table.\"\n",
              "              style=\"display:none;\">\n",
              "        \n",
              "  <svg xmlns=\"http://www.w3.org/2000/svg\" height=\"24px\"viewBox=\"0 0 24 24\"\n",
              "       width=\"24px\">\n",
              "    <path d=\"M0 0h24v24H0V0z\" fill=\"none\"/>\n",
              "    <path d=\"M18.56 5.44l.94 2.06.94-2.06 2.06-.94-2.06-.94-.94-2.06-.94 2.06-2.06.94zm-11 1L8.5 8.5l.94-2.06 2.06-.94-2.06-.94L8.5 2.5l-.94 2.06-2.06.94zm10 10l.94 2.06.94-2.06 2.06-.94-2.06-.94-.94-2.06-.94 2.06-2.06.94z\"/><path d=\"M17.41 7.96l-1.37-1.37c-.4-.4-.92-.59-1.43-.59-.52 0-1.04.2-1.43.59L10.3 9.45l-7.72 7.72c-.78.78-.78 2.05 0 2.83L4 21.41c.39.39.9.59 1.41.59.51 0 1.02-.2 1.41-.59l7.78-7.78 2.81-2.81c.8-.78.8-2.07 0-2.86zM5.41 20L4 18.59l7.72-7.72 1.47 1.35L5.41 20z\"/>\n",
              "  </svg>\n",
              "      </button>\n",
              "      \n",
              "  <style>\n",
              "    .colab-df-container {\n",
              "      display:flex;\n",
              "      flex-wrap:wrap;\n",
              "      gap: 12px;\n",
              "    }\n",
              "\n",
              "    .colab-df-convert {\n",
              "      background-color: #E8F0FE;\n",
              "      border: none;\n",
              "      border-radius: 50%;\n",
              "      cursor: pointer;\n",
              "      display: none;\n",
              "      fill: #1967D2;\n",
              "      height: 32px;\n",
              "      padding: 0 0 0 0;\n",
              "      width: 32px;\n",
              "    }\n",
              "\n",
              "    .colab-df-convert:hover {\n",
              "      background-color: #E2EBFA;\n",
              "      box-shadow: 0px 1px 2px rgba(60, 64, 67, 0.3), 0px 1px 3px 1px rgba(60, 64, 67, 0.15);\n",
              "      fill: #174EA6;\n",
              "    }\n",
              "\n",
              "    [theme=dark] .colab-df-convert {\n",
              "      background-color: #3B4455;\n",
              "      fill: #D2E3FC;\n",
              "    }\n",
              "\n",
              "    [theme=dark] .colab-df-convert:hover {\n",
              "      background-color: #434B5C;\n",
              "      box-shadow: 0px 1px 3px 1px rgba(0, 0, 0, 0.15);\n",
              "      filter: drop-shadow(0px 1px 2px rgba(0, 0, 0, 0.3));\n",
              "      fill: #FFFFFF;\n",
              "    }\n",
              "  </style>\n",
              "\n",
              "      <script>\n",
              "        const buttonEl =\n",
              "          document.querySelector('#df-09bd0233-6ef0-426f-9587-45e0c087ccd1 button.colab-df-convert');\n",
              "        buttonEl.style.display =\n",
              "          google.colab.kernel.accessAllowed ? 'block' : 'none';\n",
              "\n",
              "        async function convertToInteractive(key) {\n",
              "          const element = document.querySelector('#df-09bd0233-6ef0-426f-9587-45e0c087ccd1');\n",
              "          const dataTable =\n",
              "            await google.colab.kernel.invokeFunction('convertToInteractive',\n",
              "                                                     [key], {});\n",
              "          if (!dataTable) return;\n",
              "\n",
              "          const docLinkHtml = 'Like what you see? Visit the ' +\n",
              "            '<a target=\"_blank\" href=https://colab.research.google.com/notebooks/data_table.ipynb>data table notebook</a>'\n",
              "            + ' to learn more about interactive tables.';\n",
              "          element.innerHTML = '';\n",
              "          dataTable['output_type'] = 'display_data';\n",
              "          await google.colab.output.renderOutput(dataTable, element);\n",
              "          const docLink = document.createElement('div');\n",
              "          docLink.innerHTML = docLinkHtml;\n",
              "          element.appendChild(docLink);\n",
              "        }\n",
              "      </script>\n",
              "    </div>\n",
              "  </div>\n",
              "  "
            ]
          },
          "metadata": {},
          "execution_count": 11
        }
      ]
    },
    {
      "cell_type": "markdown",
      "source": [
        "## Text Vectorization"
      ],
      "metadata": {
        "id": "9CorM9zGVPQ9"
      }
    },
    {
      "cell_type": "code",
      "source": [
        "VOCABULARY_SIZE = 20000"
      ],
      "metadata": {
        "id": "CjxiVQzh4re3"
      },
      "execution_count": null,
      "outputs": []
    },
    {
      "cell_type": "code",
      "source": [
        "# Get the training and validation sets\n",
        "x_train_reviews = imdb_df[imdb_df[\"split\"] == \"train\"][\"preprocessed_review\"]\n",
        "x_test_reviews = imdb_df[imdb_df[\"split\"] == \"test\"][\"preprocessed_review\"]\n",
        "\n",
        "y_train = imdb_df[imdb_df[\"split\"] == \"train\"][\"sentiment\"]\n",
        "y_test = imdb_df[imdb_df[\"split\"] == \"test\"][\"sentiment\"]"
      ],
      "metadata": {
        "id": "2iToWQALAFs9"
      },
      "execution_count": null,
      "outputs": []
    },
    {
      "cell_type": "markdown",
      "source": [
        "### Bag-of-Words Model\n",
        "\n",
        "The bag-of-words (BoW) model is a sparse representation that maps arbitrary text into fixed-length (equal to that of the corpus vocabulary) vectors by counting the number of occurrences of the words (unigram) in the given text.  On the other hand, it is very common to also use bigrams and trigrams. In this way, the text feature extracted could detect more information in comparison to unigram.\n",
        "\n",
        "**Limitations of the BoW Model**\n",
        "\n",
        "- Dimensionality Problem\n",
        "\n",
        "  For a vocabulary of size $|V|$, the bag-of-words model encodes every document as a $|V|$-dimensional sparse vector. As vocabulary sizes may potentially run into millions, bag-of-word models face scalability challenges.\n",
        "\n",
        "- Semantic Problem\n",
        "\n",
        "  The main issue with the Bag-of-Words model is that it considers all words as equally important, in the case of a binary bag-of-words. While in the term-frequency bag-of-words, many words that occur frequently aren't very informative (e.g. stop words). Even if stop words are removed, there can still be highly frequent and uninformative words. For example, in the IMDb movie reviews corpus, most reviews/documents will contain the words \"movie\", \"film\", etc. "
      ],
      "metadata": {
        "id": "Y1ubcWhhVVkq"
      }
    },
    {
      "cell_type": "code",
      "source": [
        "bow_vectorization_layer = TextVectorization(\n",
        "    max_tokens=VOCABULARY_SIZE,\n",
        "    standardize=None,\n",
        "    ngrams=2,\n",
        "    output_mode=\"count\",\n",
        ")\n",
        "\n",
        "bow_vectorization_layer.adapt(imdb_df[\"preprocessed_review\"])\n",
        "\n",
        "# Get BoW Vocabulary and its size\n",
        "bow_vocabulary = bow_vectorization_layer.get_vocabulary()\n",
        "bow_vocabulary_size = bow_vectorization_layer.vocabulary_size()"
      ],
      "metadata": {
        "id": "x562ZyxN4bmp"
      },
      "execution_count": null,
      "outputs": []
    },
    {
      "cell_type": "code",
      "source": [
        "bow_vocabulary[:20]"
      ],
      "metadata": {
        "colab": {
          "base_uri": "https://localhost:8080/"
        },
        "id": "Xvb4k7Nz59G-",
        "outputId": "b8a8d76e-b1da-49bf-ddc3-95dd3ee3e37d"
      },
      "execution_count": null,
      "outputs": [
        {
          "output_type": "execute_result",
          "data": {
            "text/plain": [
              "['[UNK]',\n",
              " 'not',\n",
              " 'movi',\n",
              " 'film',\n",
              " 'one',\n",
              " 'like',\n",
              " 'time',\n",
              " 'good',\n",
              " 'make',\n",
              " 'charact',\n",
              " 'see',\n",
              " 'get',\n",
              " 'watch',\n",
              " 'would',\n",
              " 'even',\n",
              " 'stori',\n",
              " 'no',\n",
              " 'realli',\n",
              " 'scene',\n",
              " 'well']"
            ]
          },
          "metadata": {},
          "execution_count": 15
        }
      ]
    },
    {
      "cell_type": "code",
      "source": [
        "bow_vocabulary[-20:]"
      ],
      "metadata": {
        "colab": {
          "base_uri": "https://localhost:8080/"
        },
        "id": "R46rLbvrL9V8",
        "outputId": "38af8c1d-0a42-4b5d-ace0-c1bef54cfcde"
      },
      "execution_count": null,
      "outputs": [
        {
          "output_type": "execute_result",
          "data": {
            "text/plain": [
              "['creat movi',\n",
              " 'contain one',\n",
              " 'consumpt',\n",
              " 'congress',\n",
              " 'complet opposit',\n",
              " 'commonplac',\n",
              " 'come good',\n",
              " 'combo',\n",
              " 'cobbl',\n",
              " 'cheapli made',\n",
              " 'charm not',\n",
              " 'characterdriven',\n",
              " 'charact wonder',\n",
              " 'charact want',\n",
              " 'charact use',\n",
              " 'charact though',\n",
              " 'charact seen',\n",
              " 'charact far',\n",
              " 'charact care',\n",
              " 'chang much']"
            ]
          },
          "metadata": {},
          "execution_count": 28
        }
      ]
    },
    {
      "cell_type": "code",
      "source": [
        "x_train = bow_vectorization_layer(x_train_reviews)\n",
        "x_test = bow_vectorization_layer(x_test_reviews)"
      ],
      "metadata": {
        "id": "3uOfxwP96KkW"
      },
      "execution_count": null,
      "outputs": []
    },
    {
      "cell_type": "markdown",
      "source": [
        "### Term Frequency-Inverse Document Frequency\n",
        "\n",
        "TF-IDF provides an improved weighing over the bag-of-words model, by taking into consideration how unique a word is to the given document. In bag-of-words, vectorization was just concerned with the frequency of vocabulary words in a given document. As a result, articles, prepositions, and conjunctions which don’t contribute a lot to the meaning get as much importance as adjectives. \n",
        "\n",
        "TF-IDF overcomes this issue. Words that get repeated too often don’t overpower less frequent but important words. It does so by computing the product of the following two quantities:\n",
        "\n",
        "*    Term Frequency, which is just the frequency of the word in the text.\n",
        "$tf_{t, d}=log_{10}(1+count(t, d))$\n",
        "\n",
        "*    Inverse Document Frequency, which gives higher weight to words that occur only in few documents.\n",
        "$idf_t=log_{10}(\\frac{N}{df_t})$\n",
        "where $N$ is the total number of documents, and $df_t$ is the number of documents the word occurs in. \n",
        "\n",
        "**Limitations of TF-IDF**\n",
        "\n",
        "While TF-IDF provides an improved word weighting. It still suffers from the same issues as the BoW model."
      ],
      "metadata": {
        "id": "1XB_qBHMYy6B"
      }
    },
    {
      "cell_type": "code",
      "source": [
        "tfidf_vectorization_layer = TextVectorization(\n",
        "    max_tokens=VOCABULARY_SIZE,\n",
        "    standardize=None,\n",
        "    ngrams=2,\n",
        "    output_mode=\"tf_idf\",\n",
        ")\n",
        "\n",
        "tfidf_vectorization_layer.adapt(imdb_df[\"preprocessed_review\"])\n",
        "\n",
        "# Get TF-IDF Vocabulary and its size\n",
        "tfidf_vocabulary = tfidf_vectorization_layer.get_vocabulary()\n",
        "tfidf_vocabulary_size = tfidf_vectorization_layer.vocabulary_size()"
      ],
      "metadata": {
        "id": "x2i9HnKj7sD9"
      },
      "execution_count": null,
      "outputs": []
    },
    {
      "cell_type": "code",
      "source": [
        "x_train = tfidf_vectorization_layer(x_train_reviews)\n",
        "x_test = tfidf_vectorization_layer(x_test_reviews)"
      ],
      "metadata": {
        "id": "c_Lh7ki87sD-"
      },
      "execution_count": null,
      "outputs": []
    },
    {
      "cell_type": "markdown",
      "source": [
        "## Classification"
      ],
      "metadata": {
        "id": "rpfwxDcmboHe"
      }
    },
    {
      "cell_type": "code",
      "source": [
        "def evaluate_model(y_true, y_pred):\n",
        "\n",
        "  # Classification Report\n",
        "  print(\"Classification Report:-\")\n",
        "  print(classification_report(y_true, y_pred))\n",
        "  \n",
        "  # Confusion Matrix\n",
        "  print(\"Confusion Matrix:-\")\n",
        "  cm = confusion_matrix(y_true, y_pred)\n",
        "  disp = ConfusionMatrixDisplay(confusion_matrix=cm, display_labels=[\"Positive\", \"Negative\"])\n",
        "  disp.plot()\n",
        "  plt.show()"
      ],
      "metadata": {
        "id": "TU8mHxcK_jTU"
      },
      "execution_count": null,
      "outputs": []
    },
    {
      "cell_type": "markdown",
      "source": [
        "### Naive Bayes Classifier\n",
        "\n",
        "The Naïve Bayes classifier method is theoretically based on Bayes theorem. \n",
        "\n",
        "Let $n$ be the number of documents $\\{d_1, ..., d_n\\}$ to be classified into one of $k$ classes $\\{c_1, ..., c_k\\}$.\n",
        "\n",
        "- Bayes's theorem can be expressed as \n",
        "  $P(c|d) = \\frac{P(d|c)P(c)}{P(d)}$.\n",
        "\n",
        "- Thus, a prediction class $\\hat c$ is computed as $\\hat c=argmax_cP(d|c)P(c)=argmax_cP(w_1, ..., w_T|c)P(c)$.\n",
        "\n",
        "- The Naive assumption of $i.i.d.$ data points enable the expression of the joint probability as a product: $\\hat c=argmax_c\\Pi_{i=0}^{T}P(w_i|c)P(c)$.\n",
        "\n",
        "- This is equivalent to: $\\hat c=argmax_c\\Sigma_{i=0}^{T}log P(w_i|c)+log P(c)$."
      ],
      "metadata": {
        "id": "eOOrbATHbpb8"
      }
    },
    {
      "cell_type": "code",
      "source": [
        "def fit_nb_model(x_train, x_val, y_train, y_val):\n",
        "  \n",
        "  # Instanciate the model\n",
        "  model = MultinomialNB()\n",
        "\n",
        "  # Training\n",
        "  model.fit(x_train, y_train)\n",
        "\n",
        "  # Evaluation\n",
        "  print(\"Model Results on the training set...\")\n",
        "  evaluate_model(y_train, model.predict(x_train))\n",
        "\n",
        "  print(\"\\nModel Results on the validation set...\")\n",
        "  evaluate_model(y_val, model.predict(x_val))"
      ],
      "metadata": {
        "id": "KfSgu2km9-uB"
      },
      "execution_count": null,
      "outputs": []
    },
    {
      "cell_type": "code",
      "source": [
        "print(\"Bag-of-Words Results:\")\n",
        "print(\"----------------------------------------\")\n",
        "fit_nb_model(x_train, x_test, y_train, y_test)"
      ],
      "metadata": {
        "colab": {
          "base_uri": "https://localhost:8080/",
          "height": 1000
        },
        "id": "nFZ2o-1P_zxE",
        "outputId": "793a57a2-babf-4bc9-feb0-f3af6da0fd50"
      },
      "execution_count": null,
      "outputs": [
        {
          "output_type": "stream",
          "name": "stdout",
          "text": [
            "Bag-of-Words Results:\n",
            "----------------------------------------\n",
            "Model Results on the training set...\n",
            "Classification Report:-\n",
            "              precision    recall  f1-score   support\n",
            "\n",
            "           0       0.88      0.89      0.89     12500\n",
            "           1       0.89      0.88      0.89     12500\n",
            "\n",
            "    accuracy                           0.89     25000\n",
            "   macro avg       0.89      0.89      0.89     25000\n",
            "weighted avg       0.89      0.89      0.89     25000\n",
            "\n",
            "Confusion Matrix:-\n"
          ]
        },
        {
          "output_type": "display_data",
          "data": {
            "text/plain": [
              "<Figure size 432x288 with 2 Axes>"
            ],
            "image/png": "[encoded data removed]"
          },
          "metadata": {
            "needs_background": "light"
          }
        },
        {
          "output_type": "stream",
          "name": "stdout",
          "text": [
            "\n",
            "Model Results on the validation set...\n",
            "Classification Report:-\n",
            "              precision    recall  f1-score   support\n",
            "\n",
            "           0       0.83      0.86      0.85     12500\n",
            "           1       0.86      0.82      0.84     12500\n",
            "\n",
            "    accuracy                           0.84     25000\n",
            "   macro avg       0.84      0.84      0.84     25000\n",
            "weighted avg       0.84      0.84      0.84     25000\n",
            "\n",
            "Confusion Matrix:-\n"
          ]
        },
        {
          "output_type": "display_data",
          "data": {
            "text/plain": [
              "<Figure size 432x288 with 2 Axes>"
            ],
            "image/png": "[encoded data removed]"
          },
          "metadata": {
            "needs_background": "light"
          }
        }
      ]
    },
    {
      "cell_type": "code",
      "source": [
        "print(\"\\nTF-IDF Results:\")\n",
        "print(\"----------------------------------------\")\n",
        "fit_nb_model(x_train, x_test, y_train, y_test)"
      ],
      "metadata": {
        "colab": {
          "base_uri": "https://localhost:8080/",
          "height": 1000
        },
        "id": "iAJCbRt7DIFg",
        "outputId": "9057cb20-f19c-477c-b4f1-132ad013ed18"
      },
      "execution_count": null,
      "outputs": [
        {
          "output_type": "stream",
          "name": "stdout",
          "text": [
            "\n",
            "TF-IDF Results:\n",
            "----------------------------------------\n",
            "Model Results on the training set...\n",
            "Classification Report:-\n",
            "              precision    recall  f1-score   support\n",
            "\n",
            "           0       0.89      0.90      0.90     12500\n",
            "           1       0.90      0.89      0.90     12500\n",
            "\n",
            "    accuracy                           0.90     25000\n",
            "   macro avg       0.90      0.90      0.90     25000\n",
            "weighted avg       0.90      0.90      0.90     25000\n",
            "\n",
            "Confusion Matrix:-\n"
          ]
        },
        {
          "output_type": "display_data",
          "data": {
            "text/plain": [
              "<Figure size 432x288 with 2 Axes>"
            ],
            "image/png": "[encoded data removed]"
          },
          "metadata": {
            "needs_background": "light"
          }
        },
        {
          "output_type": "stream",
          "name": "stdout",
          "text": [
            "\n",
            "Model Results on the validation set...\n",
            "Classification Report:-\n",
            "              precision    recall  f1-score   support\n",
            "\n",
            "           0       0.81      0.87      0.84     12500\n",
            "           1       0.86      0.80      0.83     12500\n",
            "\n",
            "    accuracy                           0.83     25000\n",
            "   macro avg       0.84      0.83      0.83     25000\n",
            "weighted avg       0.84      0.83      0.83     25000\n",
            "\n",
            "Confusion Matrix:-\n"
          ]
        },
        {
          "output_type": "display_data",
          "data": {
            "text/plain": [
              "<Figure size 432x288 with 2 Axes>"
            ],
            "image/png": "[encoded data removed]"
          },
          "metadata": {
            "needs_background": "light"
          }
        }
      ]
    },
    {
      "cell_type": "code",
      "source": [],
      "metadata": {
        "id": "56o65BSbMtf1"
      },
      "execution_count": null,
      "outputs": []
    }
  ]
}